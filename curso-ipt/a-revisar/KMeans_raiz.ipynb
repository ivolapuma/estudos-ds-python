{
 "cells": [
  {
   "cell_type": "code",
   "execution_count": 23,
   "metadata": {},
   "outputs": [],
   "source": [
    "# funcao distancia entre pontos (euclidiana?)\n",
    "def dist(x, y):\n",
    "    s = 0\n",
    "    for i in range(len(x)):\n",
    "        s += (x[i] - y[i])**2\n",
    "    return s"
   ]
  },
  {
   "cell_type": "code",
   "execution_count": 24,
   "metadata": {},
   "outputs": [],
   "source": [
    "# funcao melhor C\n",
    "def bestC(x, C):\n",
    "    j = 0\n",
    "    for i in range(1, len(C)):\n",
    "        if dist(x, C[i]) < dist(x, C[j]):\n",
    "            j = i\n",
    "    return j"
   ]
  },
  {
   "cell_type": "code",
   "execution_count": 25,
   "metadata": {},
   "outputs": [],
   "source": [
    "# funcao que minimiza Jc(w)\n",
    "def optJc(C, X):\n",
    "    W = [[0 for i in range(len(C))] for i in range(len(X))]\n",
    "    for i in range(len(X)):\n",
    "        j = bestC(X[i], C)\n",
    "        W[i][j] = 1\n",
    "    return W"
   ]
  },
  {
   "cell_type": "code",
   "execution_count": 26,
   "metadata": {},
   "outputs": [],
   "source": [
    "# funcao centroid...\n",
    "def centroid(W, X, j):\n",
    "    d = len(X[0])\n",
    "    c = [0] * d\n",
    "    q = 0\n",
    "    for i in range(len(X)):\n",
    "        if W[i][j]:\n",
    "            q += 1\n",
    "            c = [c[e] + X[i][e] for e in range(d)]\n",
    "    return [c[e]/q for e in range(d) if q > 0]"
   ]
  },
  {
   "cell_type": "code",
   "execution_count": 27,
   "metadata": {},
   "outputs": [],
   "source": [
    "#funcao que minimiza Jw(c1, ..., ck)\n",
    "def optJw(W, X):\n",
    "    k = len(W[0])\n",
    "    C = []\n",
    "    for j in range(k):\n",
    "        C.append(centroid(W, X, j))\n",
    "    return C"
   ]
  },
  {
   "cell_type": "code",
   "execution_count": 52,
   "metadata": {},
   "outputs": [],
   "source": [
    "# funcao KMeans (agrupamento de pontos)\n",
    "def kmeans(X, k, max_it):\n",
    "    C = [X[i] for i in range(1, k+1)]\n",
    "    W = optJc(C, X)\n",
    "    for i in range(max_it):\n",
    "        Cl = optJw(W, X)\n",
    "        if Cl == C: return i, C, W\n",
    "        C = Cl\n",
    "        W = optJc(C, X)\n",
    "    return i, C, W"
   ]
  },
  {
   "cell_type": "code",
   "execution_count": 34,
   "metadata": {},
   "outputs": [],
   "source": [
    "import matplotlib.pyplot as plt"
   ]
  },
  {
   "cell_type": "code",
   "execution_count": 64,
   "metadata": {},
   "outputs": [
    {
     "data": {
      "image/png": "[encoded data removed]",
      "text/plain": [
       "<Figure size 432x288 with 1 Axes>"
      ]
     },
     "metadata": {
      "needs_background": "light"
     },
     "output_type": "display_data"
    }
   ],
   "source": [
    "X = [[1, 1], [2, 2], [2, 6], [2, 7], [8, 6], [8, 8], [9, 9]]\n",
    "x = [X[i][0] for i in range(len(X))]\n",
    "y = [X[i][1] for i in range(len(X))]\n",
    "plt.plot(x, y, 'bo')\n",
    "#plt.plot(X, 'bo')\n",
    "plt.show()"
   ]
  },
  {
   "cell_type": "code",
   "execution_count": 66,
   "metadata": {},
   "outputs": [
    {
     "name": "stdout",
     "output_type": "stream",
     "text": [
      "i = 2\n",
      "C = [[1.5, 1.5], [2.0, 6.5], [8.333333333333334, 7.666666666666667]]\n",
      "W = [[1, 0, 0], [1, 0, 0], [0, 1, 0], [0, 1, 0], [0, 0, 1], [0, 0, 1], [0, 0, 1]]\n"
     ]
    }
   ],
   "source": [
    "# teste da funcao kmeans()\n",
    "X = [[1, 1], [2, 2], [2, 6], [2, 7], [8, 6], [8, 8], [9, 9]]\n",
    "i, C, W = kmeans(X, 3, 20)\n",
    "print('i =', i)\n",
    "print('C =', C)\n",
    "print('W =', W)"
   ]
  },
  {
   "cell_type": "code",
   "execution_count": 67,
   "metadata": {},
   "outputs": [
    {
     "name": "stdout",
     "output_type": "stream",
     "text": [
      "i = 3\n",
      "C = [[1.5, 1.5, 1.5], [2.0, 6.5, 6.5], [8.333333333333334, 7.666666666666667, 7.666666666666667]]\n",
      "W = [[1, 0, 0], [1, 0, 0], [0, 1, 0], [0, 1, 0], [0, 0, 1], [0, 0, 1], [0, 0, 1]]\n"
     ]
    }
   ],
   "source": [
    "# teste da funcao kmeans() 3D\n",
    "X = [[1, 1, 1], [2, 2, 2], [2, 6, 6], [2, 7, 7], [8, 6, 6], [8, 8, 8], [9, 9, 9]]\n",
    "i, C, W = kmeans(X, k=3, max_it=20)\n",
    "print('i =', i)\n",
    "print('C =', C)\n",
    "print('W =', W)"
   ]
  }
 ],
 "metadata": {
  "kernelspec": {
   "display_name": "Python 3",
   "language": "python",
   "name": "python3"
  },
  "language_info": {
   "codemirror_mode": {
    "name": "ipython",
    "version": 3
   },
   "file_extension": ".py",
   "mimetype": "text/x-python",
   "name": "python",
   "nbconvert_exporter": "python",
   "pygments_lexer": "ipython3",
   "version": "3.7.1"
  }
 },
 "nbformat": 4,
 "nbformat_minor": 2
}
