{
 "cells": [
  {
   "cell_type": "markdown",
   "metadata": {},
   "source": [
    "# Estatística Descritiva"
   ]
  },
  {
   "cell_type": "code",
   "execution_count": 46,
   "metadata": {},
   "outputs": [],
   "source": [
    "import statistics as stat\n",
    "import math"
   ]
  },
  {
   "cell_type": "code",
   "execution_count": 6,
   "metadata": {},
   "outputs": [],
   "source": [
    "# média de uma série de números\n",
    "def media(numeros):\n",
    "    return sum(numeros) / len(numeros)"
   ]
  },
  {
   "cell_type": "code",
   "execution_count": 9,
   "metadata": {},
   "outputs": [],
   "source": [
    "# mediana de uma série de números\n",
    "def mediana(numeros):\n",
    "    numeros_ordenados = sorted(numeros)\n",
    "    if len(numeros_ordenados) % 2 == 0:\n",
    "        med1 = int(len(numeros_ordenados) / 2)\n",
    "        med0 = med1 - 1\n",
    "        return (numeros_ordenados[med0] + numeros_ordenados[med1]) / 2\n",
    "    else:\n",
    "        med = int((len(numeros_ordenados) / 2) - 0.5)\n",
    "        return numeros_ordenados[med]"
   ]
  },
  {
   "cell_type": "code",
   "execution_count": 35,
   "metadata": {},
   "outputs": [],
   "source": [
    "# primeiro quartil (Q1) de uma série de números\n",
    "def quartil_1(numeros):\n",
    "    numeros_ordenados = sorted(numeros)\n",
    "    tamanho = len(numeros_ordenados)\n",
    "    qt1 = round((tamanho) * 0.25)\n",
    "    return numeros_ordenados[qt1]"
   ]
  },
  {
   "cell_type": "code",
   "execution_count": 36,
   "metadata": {},
   "outputs": [],
   "source": [
    "# terceiro quartil (Q3) de uma série de números\n",
    "def quartil_3(numeros):\n",
    "    numeros_ordenados = sorted(numeros)\n",
    "    tamanho = len(numeros_ordenados)\n",
    "    qt1 = round((tamanho) * 0.75)\n",
    "    return numeros_ordenados[qt1]"
   ]
  },
  {
   "cell_type": "code",
   "execution_count": 23,
   "metadata": {},
   "outputs": [],
   "source": [
    "# moda de uma série de números\n",
    "def moda(numeros):\n",
    "\n",
    "    cont_num = {}\n",
    "    for v in numeros:\n",
    "        if v in cont_num.keys():\n",
    "            cont_num[v] += 1\n",
    "        else:\n",
    "            cont_num[v] = 1\n",
    "\n",
    "    moda = []\n",
    "    maior_cont = 0\n",
    "    for num in cont_num:\n",
    "        if cont_num[num] > maior_cont: \n",
    "            maior_cont = cont_num[num]\n",
    "            moda = []\n",
    "            moda.append(num)\n",
    "        elif cont_num[num] == maior_cont:\n",
    "            moda.append(num)\n",
    "    \n",
    "    return moda, maior_cont"
   ]
  },
  {
   "cell_type": "code",
   "execution_count": 26,
   "metadata": {},
   "outputs": [],
   "source": [
    "# máximo de uma série de números\n",
    "def maximo(numeros):\n",
    "    maximo = numeros[0]\n",
    "    for n in numeros:\n",
    "        if n > maximo: maximo = n\n",
    "    return maximo"
   ]
  },
  {
   "cell_type": "code",
   "execution_count": 29,
   "metadata": {},
   "outputs": [],
   "source": [
    "# mínimo de uma série de números\n",
    "def minimo(numeros):\n",
    "    minimo = numeros[0]\n",
    "    for n in numeros:\n",
    "        if n < minimo: minimo = n\n",
    "    return minimo"
   ]
  },
  {
   "cell_type": "code",
   "execution_count": 54,
   "metadata": {},
   "outputs": [],
   "source": [
    "# variância de uma série de números\n",
    "def variancia(numeros):\n",
    "    m = media(numeros)\n",
    "    vs = [(n - m)**2 for n in numeros]\n",
    "    return sum(vs) / (len(vs)-1) # formula variancia para amostra\n",
    "    #return sum(vs) / (len(vs)) # formula variancia StandardScaler()"
   ]
  },
  {
   "cell_type": "code",
   "execution_count": 42,
   "metadata": {},
   "outputs": [],
   "source": [
    "# desvio padrão de uma série de números\n",
    "def desvio_padrao(numeros):\n",
    "    v = variancia(numeros)\n",
    "    return v**(1/2)"
   ]
  },
  {
   "cell_type": "code",
   "execution_count": 55,
   "metadata": {},
   "outputs": [
    {
     "name": "stdout",
     "output_type": "stream",
     "text": [
      "mínimo       : 11\n",
      "máximo       : 74929\n",
      "média        : 2770.1693548387098 , 2770.1693548387098\n",
      "quartil 1    : 405\n",
      "mediana      : 1579.5 , 1579.5\n",
      "quartil 3    : 2503\n",
      "variância    : 42436362.228494644 , 42436362.22849462\n",
      "desvio padrão: 6514.319782486476 , 6514.319782486474\n",
      "moda         : ([437, 2599, 1317, 2564, 363, 264, 251, 225, 252, 178, 188, 193], 3)\n"
     ]
    }
   ],
   "source": [
    "# série de tempos (s) da interface 510 (vendas)\n",
    "tempos = [929,468,560,446,500,477,492,457,474,570,511,568,603,489,470,511,616,375,478,556,467,479,516,501,422,467,478,449,570,439,405,392,522,433,420,437,468,423,393,465,1871,594,419,454,1641,544,630,629,600,483,524,2979,391,490,512,558,541,539,507,434,419,526,458,463,438,563,421,498,474,1928,2722,1808,1809,1484,1796,1739,1698,1696,1653,1611,1468,1645,1702,1685,1663,1598,1711,2915,1598,1696,1480,1658,1628,1508,1532,1657,1767,1602,1222,3710,3575,3315,3321,3450,3297,3559,3545,3499,3248,3383,3503,3433,3323,3449,3528,3171,3389,3486,3357,3507,3382,3488,3201,3276,3429,3539,3443,3453,3431,1365,2305,2549,2401,2143,2151,2389,2459,2131,2265,2291,2376,2329,2322,2288,2090,2325,2356,2380,2419,2402,2395,2136,2304,2402,2333,2233,3068,2900,2486,2437,2483,2965,3018,2871,3027,2599,2664,2805,2963,2964,2895,2804,2446,2788,2780,2894,2770,2651,2786,2167,2490,2638,2131,1841,1390,2469,2151,2180,2368,2351,2224,2220,2372,2161,2357,2259,2286,2170,2296,2139,2035,2653,3905,2574,2514,2400,2503,2409,2499,2757,2688,2537,2346,2271,2213,2361,2558,1986,1923,1634,1680,1453,1470,1561,1489,1488,1425,1435,1317,1439,1535,1446,1486,1488,1445,1282,1270,1455,1444,1313,1450,1461,1288,1231,1458,2533,2564,2483,2496,2198,2226,1963,1907,1856,1943,1689,1709,1991,1881,1852,1935,1877,1776,1719,1913,1885,1883,1849,1894,1899,1723,1687,2015,1948,1835,1587,1706,1581,1748,1871,1714,1758,1691,1668,1674,1706,1929,1949,1822,1938,1878,1654,1789,3758,1781,1753,1768,1829,1733,1773,1834,1809,1883,1788,1858,1804,1756,3032,2714,2644,2669,2641,2460,2561,2638,2598,2514,2503,2519,2355,2309,2535,2354,2448,2589,2572,2334,2411,2477,2495,2562,3039,2699,2457,2575,2459,2500,1623,1628,1454,2457,2614,2520,2596,2564,2564,2655,2277,12,1408,11,2636,2529,2599,2591,2645,2444,2387,2533,2461,2682,2476,2567,2359,2464,2589,2500,2497,2600,1563,1322,2719,1508,1376,1361,1320,1317,1282,1331,1360,1277,1322,1297,1406,1253,1300,1312,1344,1293,1333,1343,1206,1279,1228,1248,1317,1285,1229,1252,1187,1335,1244,1239,1214,1196,1035,1092,1119,1182,1158,1695,2819,2219,2454,2304,1137,1224,2150,1132,3084,3327,3185,7127,6949,5425,6044,6561,5241,6809,5576,3109,1748,1768,1639,1400,4577,5279,4079,4172,4077,4100,4867,3902,4922,4256,4220,3978,3405,2949,3092,3392,3087,3053,3008,2999,2769,3042,3222,3010,3275,3071,3043,3383,4552,3889,3990,3039,3399,3154,2851,3147,3155,3189,3127,2274,2432,2032,2235,2306,2194,2255,2165,2900,2601,2582,2583,2535,2599,2624,2708,2262,2467,66447,4047,2886,3194,2469,3667,3933,3855,4125,3854,3797,2727,2418,3308,3682,3699,3874,3703,2159,1887,2005,2115,1996,2281,2020,2207,1783,1857,18275,2076,2276,1952,2096,2008,2035,2046,1884,2776,2719,330,269,258,447,334,306,344,269,175,495,318,329,267,254,287,292,254,351,342,285,363,397,279,363,229,312,273,285,1804,201,317,264,251,280,283,299,1375,1740,1623,1733,432,457,295,263,247,13942,374,437,333,323,271,305,384,380,399,422,294,225,276,264,245,280,249,288,181,229,252,217,296,234,132,143,1510,337,309,239,18709,19416,211,178,1723,1599,245,223,242,200,674,383,155,173,156,188,169,1365,165,188,322,248,315,131,1533,1356,207,281,353,369,185,1578,307,343,16698,1169,796,225,290,243,317,404,1115,138,157,1753,1996,204,463,667,251,188,193,289,311,401,192,265,907,1029,264,16609,16967,17252,326,224,271,603,352,451,480,350,175,236,155,207,173,193,168,178,1076,1542,253,252,213,244,220,240,247,185,291,371,296,193,221,230,225,301,231,186,178,216,232,251,163,151,139,161,226,142,329,322,186,241,946,336,289,11,867,764,231,1090,1069,256,859,267,1031,237,1045,1151,849,170,315,222,169,204,199,180,226,200,167,40141,191,334,183,1641,1974,2221,262,235,7859,304,26962,252,23642,35292,23936,391,39758,34738,22835,20559,28352,30026,25705,29125,466,47903,27179,40271,28373,37500,20790,27498,18529,40877,349,35068,25185,26892,295,10829,57,695,660,62,996,326,1161,428,425,1210,986,1296,306,347,414,360,374,357,354,385,367,372,414,436,421,412,300,397,389,363,345,443,405,277,74929,381,1621,1468,500,390,368,355,316,947,647,1270,1390,1489,626,675,411,432,507,385,439,493,512,56452,12349,465,365,275,276,528,437,489,398,464,505,358,390,308,394,469,471,416,435,362,1308]\n",
    "\n",
    "print('mínimo       :', minimo(tempos))\n",
    "print('máximo       :', maximo(tempos))\n",
    "print('média        :', media(tempos), ',', stat.mean(tempos))\n",
    "print('quartil 1    :', quartil_1(tempos))\n",
    "print('mediana      :', mediana(tempos), ',', stat.median(tempos))\n",
    "print('quartil 3    :', quartil_3(tempos))\n",
    "print('variância    :', variancia(tempos), ',', stat.variance(tempos))\n",
    "print('desvio padrão:', desvio_padrao(tempos), ',', stat.stdev(tempos))\n",
    "print('moda         :', moda(tempos))"
   ]
  }
 ],
 "metadata": {
  "kernelspec": {
   "display_name": "Python 3",
   "language": "python",
   "name": "python3"
  },
  "language_info": {
   "codemirror_mode": {
    "name": "ipython",
    "version": 3
   },
   "file_extension": ".py",
   "mimetype": "text/x-python",
   "name": "python",
   "nbconvert_exporter": "python",
   "pygments_lexer": "ipython3",
   "version": "3.7.1"
  }
 },
 "nbformat": 4,
 "nbformat_minor": 2
}
