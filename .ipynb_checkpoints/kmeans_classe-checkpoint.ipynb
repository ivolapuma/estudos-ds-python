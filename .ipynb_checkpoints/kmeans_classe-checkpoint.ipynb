{
 "cells": [
  {
   "cell_type": "code",
   "execution_count": 1,
   "metadata": {},
   "outputs": [],
   "source": [
    "import numpy as np\n",
    "import math"
   ]
  },
  {
   "cell_type": "code",
   "execution_count": 2,
   "metadata": {},
   "outputs": [],
   "source": [
    "def sq_error(X, Y, fn):\n",
    "    sse = 0\n",
    "    for i in range(len(X)):\n",
    "        sse += np.inner(X[i] - Y[fn[i]], X[i]-Y[fn[i]])\n",
    "    return sse"
   ]
  },
  {
   "cell_type": "code",
   "execution_count": 4,
   "metadata": {},
   "outputs": [],
   "source": [
    "class MKMeans:\n",
    "    \n",
    "    def __init__(self, k):\n",
    "        self.k = k\n",
    "            \n",
    "    def predict(self, xs):\n",
    "        cs = []\n",
    "        for x in xs:\n",
    "            cs.append(np.argmin([np.inner(x-self.cluster_centers_[c], x-self.cluster_centers_[c]) for c in range(self.k)]))\n",
    "        return cs\n",
    "    \n",
    "    def fit(self, X):\n",
    "        self.X = X\n",
    "        max_rounds = 20\n",
    "        min_error = math.inf\n",
    "        for r in range(max_rounds):\n",
    "            sse = self.tryfit()\n",
    "            if sse < min_error:\n",
    "                min_error, best_C = sse, self.cluster_centers_\n",
    "        self.cluster_centers_ = best_C\n",
    "      \n",
    "    def tryfit(self):\n",
    "        n = len(self.X)\n",
    "        self.cluster_centers_ = [self.X[i] for i in np.random.choice(n, self.k)]\n",
    "        max_steps = 10\n",
    "        cluster = [0]*n\n",
    "        for step in range(max_steps):\n",
    "            size = [0] * n\n",
    "            new_C = [0] * self.k \n",
    "            for i in range(n):\n",
    "                [c] = self.predict([self.X[i]])\n",
    "                cluster[i] = c\n",
    "                size[c] += 1\n",
    "                new_C[c] += self.X[i]\n",
    "            for c in range(self.k): \n",
    "                if size[c] == 0: \n",
    "                    new_C = [self.X[i] for i in np.random.choice(n, self.k)]\n",
    "                    break\n",
    "                new_C[c] /= size[c]\n",
    "            self.cluster_centers_ = new_C\n",
    "        return sq_error(self.X, self.cluster_centers_, self.predict(self.X))"
   ]
  }
 ],
 "metadata": {
  "kernelspec": {
   "display_name": "Python 3",
   "language": "python",
   "name": "python3"
  },
  "language_info": {
   "codemirror_mode": {
    "name": "ipython",
    "version": 3
   },
   "file_extension": ".py",
   "mimetype": "text/x-python",
   "name": "python",
   "nbconvert_exporter": "python",
   "pygments_lexer": "ipython3",
   "version": "3.7.1"
  }
 },
 "nbformat": 4,
 "nbformat_minor": 2
}
