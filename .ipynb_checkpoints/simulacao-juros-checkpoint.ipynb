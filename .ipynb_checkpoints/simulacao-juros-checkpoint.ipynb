{
 "cells": [
  {
   "cell_type": "markdown",
   "metadata": {},
   "source": [
    "# Simulação de juros"
   ]
  },
  {
   "cell_type": "code",
   "execution_count": 43,
   "metadata": {},
   "outputs": [],
   "source": [
    "def calcula_juros_pp(juros_aa, periodo):\n",
    "    # fórmula 1 + ia = (1 + ip)**n onde ia é a taxa anual; ip é a taxa período e n é número de períodos\n",
    "    return (1 + juros_aa)**(1/periodo) - 1"
   ]
  },
  {
   "cell_type": "code",
   "execution_count": 64,
   "metadata": {},
   "outputs": [
    {
     "data": {
      "text/plain": [
       "(530000,\n",
       " 125000,\n",
       " 137346.61,\n",
       " 15900.0,\n",
       " 5300.0,\n",
       " 3100,\n",
       " 24300.0,\n",
       " 291953.39,\n",
       " 0.006426264085744426,\n",
       " 420)"
      ]
     },
     "execution_count": 64,
     "metadata": {},
     "output_type": "execute_result"
    }
   ],
   "source": [
    "valor_imovel = 530000\n",
    "entrada = 125000\n",
    "fgts = 137346.61\n",
    "itbi = valor_imovel * (3 / 100)\n",
    "registro = valor_imovel * (1 / 100)\n",
    "avaliacao = 3100\n",
    "despesas = itbi + registro + avaliacao\n",
    "#despesas = 0\n",
    "valor_financ = valor_imovel - (entrada + fgts) + despesas\n",
    "perc_juros_anual = (7.99) / 100\n",
    "#perc_juros_anual = (10.0) / 100\n",
    "perc_juros_mensal = calcula_juros_pp(perc_juros_anual, 12)\n",
    "prazo_meses = 35 * 12\n",
    "#prazo_meses = 30 * 12\n",
    "valor_imovel, entrada, fgts, itbi, registro, avaliacao, despesas, valor_financ, perc_juros_mensal, prazo_meses"
   ]
  },
  {
   "cell_type": "code",
   "execution_count": 65,
   "metadata": {},
   "outputs": [
    {
     "data": {
      "text/plain": [
       "695.1271190476191"
      ]
     },
     "execution_count": 65,
     "metadata": {},
     "output_type": "execute_result"
    }
   ],
   "source": [
    "amort = valor_financ / prazo_meses\n",
    "amort"
   ]
  },
  {
   "cell_type": "code",
   "execution_count": 66,
   "metadata": {},
   "outputs": [
    {
     "data": {
      "text/plain": [
       "(0.00026, 26.5, 25)"
      ]
     },
     "execution_count": 66,
     "metadata": {},
     "output_type": "execute_result"
    }
   ],
   "source": [
    "perc_seguro_mip = 0.026 / 100\n",
    "valor_seguro_dfi = 26.5\n",
    "valor_tsa = 25\n",
    "perc_seguro_mip, valor_seguro_dfi, valor_tsa"
   ]
  },
  {
   "cell_type": "code",
   "execution_count": 67,
   "metadata": {},
   "outputs": [
    {
     "data": {
      "text/plain": [
       "(421,\n",
       " 291953.39,\n",
       " 291258.2628809524,\n",
       " 290563.13576190476,\n",
       " '...',\n",
       " 695.1271190456218,\n",
       " -1.9972503650933504e-09)"
      ]
     },
     "execution_count": 67,
     "metadata": {},
     "output_type": "execute_result"
    }
   ],
   "source": [
    "saldo_devedor = []\n",
    "valor = valor_financ\n",
    "saldo_devedor.append(valor)\n",
    "for i in range(prazo_meses):\n",
    "    valor -= amort\n",
    "    saldo_devedor.append(valor)\n",
    "len(saldo_devedor), saldo_devedor[0], saldo_devedor[1], saldo_devedor[2], '...', saldo_devedor[-2], saldo_devedor[-1]"
   ]
  },
  {
   "cell_type": "code",
   "execution_count": 68,
   "metadata": {},
   "outputs": [
    {
     "data": {
      "text/plain": [
       "(421,\n",
       " 0,\n",
       " 1876.169584868336,\n",
       " 1871.7025144281733,\n",
       " '...',\n",
       " 8.934140880312576,\n",
       " -1.2834858291439342e-11)"
      ]
     },
     "execution_count": 68,
     "metadata": {},
     "output_type": "execute_result"
    }
   ],
   "source": [
    "juros = []\n",
    "juros.append(0)\n",
    "for i in range(prazo_meses):\n",
    "    if i > 0:\n",
    "        juros.append(saldo_devedor[i-1] * perc_juros_mensal)\n",
    "juros.append(saldo_devedor[-1] * perc_juros_mensal)\n",
    "len(juros), juros[0], juros[1], juros[2], '...', juros[-2], juros[-1]"
   ]
  },
  {
   "cell_type": "code",
   "execution_count": 69,
   "metadata": {},
   "outputs": [
    {
     "data": {
      "text/plain": [
       "(421,\n",
       " 0,\n",
       " 2571.296703915955,\n",
       " 2566.8296334757924,\n",
       " '...',\n",
       " 704.0612599279317,\n",
       " 695.1271190476062)"
      ]
     },
     "execution_count": 69,
     "metadata": {},
     "output_type": "execute_result"
    }
   ],
   "source": [
    "parcelas = []\n",
    "for i in range(prazo_meses):\n",
    "    if i == 0: parcelas.append(0)\n",
    "    else: parcelas.append(amort + juros[i])\n",
    "parcelas.append(amort + juros[-1])\n",
    "len(parcelas), parcelas[0], parcelas[1], parcelas[2], '...', parcelas[-2], parcelas[-1]"
   ]
  },
  {
   "cell_type": "code",
   "execution_count": 70,
   "metadata": {},
   "outputs": [
    {
     "data": {
      "text/plain": [
       "(421,\n",
       " 75.9078814,\n",
       " 75.72714834904761,\n",
       " 75.54641529809523,\n",
       " '...',\n",
       " 0.18073305095186165,\n",
       " 0)"
      ]
     },
     "execution_count": 70,
     "metadata": {},
     "output_type": "execute_result"
    }
   ],
   "source": [
    "seguro_MIP = []\n",
    "for i in range(prazo_meses):\n",
    "    seguro_MIP.append(saldo_devedor[i] * perc_seguro_mip)\n",
    "seguro_MIP.append(0)\n",
    "len(seguro_MIP), seguro_MIP[0], seguro_MIP[1], seguro_MIP[2], '...', seguro_MIP[-2], seguro_MIP[-1]"
   ]
  },
  {
   "cell_type": "code",
   "execution_count": 71,
   "metadata": {},
   "outputs": [
    {
     "data": {
      "text/plain": [
       "(421,\n",
       " 102.4078814,\n",
       " 2698.5238522650025,\n",
       " 2693.8760487738878,\n",
       " '...',\n",
       " 755.7419929788836,\n",
       " 746.6271190476062)"
      ]
     },
     "execution_count": 71,
     "metadata": {},
     "output_type": "execute_result"
    }
   ],
   "source": [
    "parcela_total = []\n",
    "for i in range(len(parcelas)):\n",
    "    if i == 0: parcela_total.append(parcelas[i] + seguro_MIP[i] + valor_seguro_dfi + 0)\n",
    "    else: parcela_total.append(parcelas[i] + seguro_MIP[i] + valor_seguro_dfi + valor_tsa)\n",
    "len(parcela_total), parcela_total[0], parcela_total[1], parcela_total[2], '...', parcela_total[-2], parcela_total[-1]"
   ]
  },
  {
   "cell_type": "code",
   "execution_count": 72,
   "metadata": {},
   "outputs": [
    {
     "data": {
      "text/plain": [
       "(2698.5238522650025,\n",
       " 724517.729579041,\n",
       " 530000,\n",
       " 291953.39,\n",
       " 1.367014584111398,\n",
       " 2.4816212258369084)"
      ]
     },
     "execution_count": 72,
     "metadata": {},
     "output_type": "execute_result"
    }
   ],
   "source": [
    "parcela_total[1], sum(parcela_total), valor_imovel, valor_financ, (sum(parcela_total)/valor_imovel), (sum(parcela_total)/valor_financ)"
   ]
  },
  {
   "cell_type": "code",
   "execution_count": 73,
   "metadata": {},
   "outputs": [
    {
     "data": {
      "text/plain": [
       "(3150.431597951175, 2698.5238522650025, 451.90774568617235)"
      ]
     },
     "execution_count": 73,
     "metadata": {},
     "output_type": "execute_result"
    }
   ],
   "source": [
    "# 35 anos, com despeas, 7.99% a.a.\n",
    "#(2698.5238522650025, 724517.729579041, 530000, 291953.39, 1.367014584111398, 2.4816212258369084)\n",
    "\n",
    "# 35 anos, com despeas, 10.00% a.a.\n",
    "#(3150.431597951175, 819643.2340751566, 530000, 291953.39, 1.5464966680663332, 2.8074455106520824)\n",
    "\n",
    "parc_010 = 3150.431597951175\n",
    "parc_0799 = 2698.5238522650025\n",
    "parc_010, parc_0799, (parc_010 - parc_0799)"
   ]
  }
 ],
 "metadata": {
  "kernelspec": {
   "display_name": "Python 3",
   "language": "python",
   "name": "python3"
  },
  "language_info": {
   "codemirror_mode": {
    "name": "ipython",
    "version": 3
   },
   "file_extension": ".py",
   "mimetype": "text/x-python",
   "name": "python",
   "nbconvert_exporter": "python",
   "pygments_lexer": "ipython3",
   "version": "3.7.1"
  }
 },
 "nbformat": 4,
 "nbformat_minor": 2
}
