{
 "cells": [
  {
   "cell_type": "code",
   "execution_count": null,
   "metadata": {},
   "outputs": [],
   "source": [
    "Distance-Weighted Nearest Neighbors"
   ]
  },
  {
   "cell_type": "code",
   "execution_count": 72,
   "metadata": {},
   "outputs": [],
   "source": [
    "import numpy as np\n",
    "import math\n",
    "import matplotlib.pyplot as plt"
   ]
  },
  {
   "cell_type": "code",
   "execution_count": 68,
   "metadata": {},
   "outputs": [],
   "source": [
    "# funcao DWNN\n",
    "def dwnn(X, y, query, sigma):\n",
    "    w = []\n",
    "    for i in range(len(X)):\n",
    "        dist = np.linalg.norm(X[i] - query)\n",
    "        act = math.exp(-dist**2 / (2*sigma)**2)\n",
    "        w.append(act)\n",
    "    w = np.array(w)\n",
    "    ye = np.dot(w, y) / w.sum()\n",
    "    return ye"
   ]
  },
  {
   "cell_type": "code",
   "execution_count": 98,
   "metadata": {},
   "outputs": [
    {
     "data": {
      "image/png": "[encoded data removed]",
      "text/plain": [
       "<Figure size 432x288 with 1 Axes>"
      ]
     },
     "metadata": {
      "needs_background": "light"
     },
     "output_type": "display_data"
    }
   ],
   "source": [
    "# tentando reproduzir exemplo do Prof Rodrigo Mello\n",
    "#dataset = np.array([[i-5,i-5] for i in range(11)])\n",
    "#dataset = np.array([[i,i**2] for i in range(100)])\n",
    "dataset = np.array([[i,i**2] for i in range(100)])\n",
    "\n",
    "rows = dataset.shape[0]\n",
    "cols = dataset.shape[1]\n",
    "    \n",
    "X = np.zeros((rows, cols-1))\n",
    "for i in range(rows):\n",
    "    for j in range(cols-1):\n",
    "        X[i,j] = dataset[i,j]\n",
    "    \n",
    "y = np.zeros((rows, 1))\n",
    "for i in range(rows):\n",
    "    y[i,0] = dataset[i,cols-1]\n",
    "\n",
    "ye = []\n",
    "sigma = 100\n",
    "for i in range(len(X)):\n",
    "    query = i\n",
    "    ye.append(dwnn(X, y, query, sigma))\n",
    "ye = np.array(ye)\n",
    "\n",
    "plt.plot(y, 'r')\n",
    "plt.plot(ye, 'b')\n",
    "plt.show()\n",
    "\n",
    "#X, y, ye"
   ]
  }
 ],
 "metadata": {
  "kernelspec": {
   "display_name": "Python 3",
   "language": "python",
   "name": "python3"
  },
  "language_info": {
   "codemirror_mode": {
    "name": "ipython",
    "version": 3
   },
   "file_extension": ".py",
   "mimetype": "text/x-python",
   "name": "python",
   "nbconvert_exporter": "python",
   "pygments_lexer": "ipython3",
   "version": "3.7.1"
  }
 },
 "nbformat": 4,
 "nbformat_minor": 2
}
