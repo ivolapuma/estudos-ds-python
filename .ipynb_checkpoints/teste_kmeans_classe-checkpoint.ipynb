{
 "cells": [
  {
   "cell_type": "code",
   "execution_count": 2,
   "metadata": {},
   "outputs": [],
   "source": [
    "from kmeans_classe import MKMeans\n",
    "import numpy as np"
   ]
  },
  {
   "cell_type": "code",
   "execution_count": 3,
   "metadata": {},
   "outputs": [],
   "source": [
    "def quality(X, kmeans, names):\n",
    "    flower = { 'Iris-setosa': [0]*3, 'Iris-versicolor': [0]*3, 'Iris-virginica': [0]*3} \n",
    "    cs = kmeans.predict(X)\n",
    "    for i, c in enumerate(cs):\n",
    "        f = names[i]\n",
    "        flower[f][c] += 1\n",
    "    print(flower)\n",
    "    res = { }\n",
    "    cls = set()\n",
    "    for f, v in flower.items():\n",
    "        c = np.argmax(v)\n",
    "        if c in cls: \n",
    "            res[f] = 0\n",
    "        else:\n",
    "            cls.add(c)\n",
    "            res[f] = 100*max(v)/sum(v)\n",
    "    return res"
   ]
  },
  {
   "cell_type": "code",
   "execution_count": 4,
   "metadata": {},
   "outputs": [],
   "source": [
    "def read_data():\n",
    "    arq = open('iris.txt', 'r')\n",
    "    texto = arq.readlines()\n",
    "    arq.close()\n",
    "    names = []\n",
    "    X = []\n",
    "    for line in texto:\n",
    "        l1 = line.split(\",\")\n",
    "        X.append([float(v) for v in l1[:-1]])\n",
    "        names.append(l1[4][:-1])  \n",
    "    return np.array(X), names"
   ]
  },
  {
   "cell_type": "code",
   "execution_count": 5,
   "metadata": {},
   "outputs": [],
   "source": [
    "def tests():\n",
    "    X, names = read_data()\n",
    "    \n",
    "    print(\"*\"*20)\n",
    "    kmeans = MKMeans(3)\n",
    "    kmeans.fit(X)\n",
    "    print(quality(X, kmeans, names))\n",
    "    print(\"-\"*20)"
   ]
  },
  {
   "cell_type": "code",
   "execution_count": 6,
   "metadata": {},
   "outputs": [
    {
     "name": "stdout",
     "output_type": "stream",
     "text": [
      "********************\n",
      "{'Iris-setosa': [0, 50, 0], 'Iris-versicolor': [48, 0, 2], 'Iris-virginica': [14, 0, 36]}\n",
      "{'Iris-setosa': 100.0, 'Iris-versicolor': 96.0, 'Iris-virginica': 72.0}\n",
      "--------------------\n"
     ]
    }
   ],
   "source": [
    "tests()"
   ]
  }
 ],
 "metadata": {
  "kernelspec": {
   "display_name": "Python 3",
   "language": "python",
   "name": "python3"
  },
  "language_info": {
   "codemirror_mode": {
    "name": "ipython",
    "version": 3
   },
   "file_extension": ".py",
   "mimetype": "text/x-python",
   "name": "python",
   "nbconvert_exporter": "python",
   "pygments_lexer": "ipython3",
   "version": "3.7.1"
  }
 },
 "nbformat": 4,
 "nbformat_minor": 2
}
