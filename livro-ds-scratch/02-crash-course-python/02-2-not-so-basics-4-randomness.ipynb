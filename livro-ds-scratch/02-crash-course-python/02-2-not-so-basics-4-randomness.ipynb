{
 "cells": [
  {
   "cell_type": "code",
   "execution_count": null,
   "metadata": {},
   "outputs": [],
   "source": [
    "#\n",
    "# 2 A Crash Course in Python\n",
    "#\n",
    "# 2.2 The Not-So-Basics"
   ]
  },
  {
   "cell_type": "code",
   "execution_count": null,
   "metadata": {},
   "outputs": [],
   "source": [
    "#\n",
    "# Randomness\n",
    "#"
   ]
  },
  {
   "cell_type": "code",
   "execution_count": 1,
   "metadata": {},
   "outputs": [
    {
     "name": "stdout",
     "output_type": "stream",
     "text": [
      "[0.8784542813488433, 0.1339599272554517, 0.4250256481650053, 0.23643048501389263, 0.5011902356929203, 0.3977505652499257, 0.23209019420655108, 0.2645106866455368, 0.4702781360288393, 0.47529822698051194]\n"
     ]
    }
   ],
   "source": [
    "# o modulo 'random' traz recursos para gerar numeros 'aleatorios'\n",
    "\n",
    "import random\n",
    "\n",
    "# o metodo random() retorna um numero entre 0.0 e 1.0\n",
    "aleatorios = [random.random() for _ in range(10)]\n",
    "print(aleatorios)"
   ]
  },
  {
   "cell_type": "code",
   "execution_count": 6,
   "metadata": {},
   "outputs": [
    {
     "name": "stdout",
     "output_type": "stream",
     "text": [
      "seed 10 n1: 0.5714025946899135\n",
      "seed 10 n2: 0.4288890546751146\n",
      "seed 10 n3: 0.5780913011344704\n",
      "\n",
      "seed 20 n1: 0.9056396761745207\n",
      "seed 20 n2: 0.6862541570267026\n",
      "seed 20 n3: 0.7665092563626442\n",
      "\n",
      "seed 10 n1: 0.5714025946899135\n",
      "seed 10 n2: 0.4288890546751146\n",
      "seed 10 n3: 0.5780913011344704\n",
      "\n"
     ]
    }
   ],
   "source": [
    "# na verdade, random gera numeros 'pseudoaleatorios' baseados \n",
    "# em um estado interno (random.seed) que eh configuravel\n",
    "\n",
    "random.seed(10)\n",
    "print(\"seed 10 n1:\", random.random())\n",
    "print(\"seed 10 n2:\", random.random())\n",
    "print(\"seed 10 n3:\", random.random())\n",
    "print()\n",
    "\n",
    "random.seed(20)\n",
    "print(\"seed 20 n1:\", random.random())\n",
    "print(\"seed 20 n2:\", random.random())\n",
    "print(\"seed 20 n3:\", random.random())\n",
    "print()\n",
    "\n",
    "random.seed(10)\n",
    "print(\"seed 10 n1:\", random.random())\n",
    "print(\"seed 10 n2:\", random.random())\n",
    "print(\"seed 10 n3:\", random.random())\n",
    "print()"
   ]
  },
  {
   "cell_type": "code",
   "execution_count": 17,
   "metadata": {},
   "outputs": [
    {
     "name": "stdout",
     "output_type": "stream",
     "text": [
      "um numero entre [0, 1, 2, ..., 8, 9]: 4\n",
      "um numero entre [3, 4, 5]: 5\n"
     ]
    }
   ],
   "source": [
    "# existe o metodo randrange() que pode receber 1 ou 2 parametros e retorna um elemento\n",
    "# escolhido aleatoriamente pertencente a um range()\n",
    "\n",
    "# retorna um numero aleatorio contido na lista [0, 1, 2, ..., 8, 9]\n",
    "print(\"um numero entre [0, 1, 2, ..., 8, 9]:\", random.randrange(10))\n",
    "\n",
    "# retorna um numero aleatorio contido na lista [3, 4, 5]\n",
    "print(\"um numero entre [3, 4, 5]:\", random.randrange(3, 6))"
   ]
  },
  {
   "cell_type": "code",
   "execution_count": 35,
   "metadata": {},
   "outputs": [
    {
     "name": "stdout",
     "output_type": "stream",
     "text": [
      "[0, 1, 2, 3, 4, 5, 6, 7, 8, 9]\n",
      "[6, 3, 4, 0, 7, 1, 5, 2, 9, 8]\n"
     ]
    }
   ],
   "source": [
    "# com o metodo shuffle(), pode-se 'embaralhar' os elementos de uma lista\n",
    "\n",
    "numeros = list(range(10))  # cria uma lista a partir do range() -- lembra? no Python 3 range eh lazy!\n",
    "print(numeros)\n",
    "\n",
    "random.shuffle(numeros)\n",
    "print(numeros)"
   ]
  },
  {
   "cell_type": "code",
   "execution_count": 45,
   "metadata": {},
   "outputs": [
    {
     "name": "stdout",
     "output_type": "stream",
     "text": [
      "fruta do dia: banana\n"
     ]
    }
   ],
   "source": [
    "# random.choice() retorna aleatoriamente um elemento contido em uma lista\n",
    "\n",
    "fruta_do_dia = random.choice([\"laranja\", \"banana\", \"maca\", \"uva\", \"pera\", \"pitaia\"])\n",
    "print(\"fruta do dia:\", fruta_do_dia)"
   ]
  },
  {
   "cell_type": "code",
   "execution_count": 59,
   "metadata": {},
   "outputs": [
    {
     "name": "stdout",
     "output_type": "stream",
     "text": [
      "numeros_mega = [1, 2, 3, 4, 5, 6, 7, 8, 9, 10, 11, 12, 13, 14, 15, 16, 17, 18, 19, 20, 21, 22, 23, 24, 25, 26, 27, 28, 29, 30, 31, 32, 33, 34, 35, 36, 37, 38, 39, 40, 41, 42, 43, 44, 45, 46, 47, 48, 49, 50, 51, 52, 53, 54, 55, 56, 57, 58, 59, 60]\n",
      "sorteados = [17, 24, 30, 28, 49, 13]\n"
     ]
    }
   ],
   "source": [
    "# random.sample() retorna uma amostra de elementos nao repetidos contidos em uma lista\n",
    "\n",
    "numeros_mega = [n+1 for n in range(60)]\n",
    "print(\"numeros_mega =\", numeros_mega)\n",
    "\n",
    "sorteados = random.sample(numeros_mega, 6)\n",
    "print(\"sorteados =\", sorteados)"
   ]
  },
  {
   "cell_type": "code",
   "execution_count": 71,
   "metadata": {},
   "outputs": [
    {
     "name": "stdout",
     "output_type": "stream",
     "text": [
      "numeros = [0, 1, 2, 3, 4, 5, 6, 7, 8, 9]\n",
      "amostra = [6, 3, 5, 9, 3]\n"
     ]
    }
   ],
   "source": [
    "# contudo, se eh necessario uma amostra com elementos repetidos, \n",
    "# simplesmente use random.choice() diversas vezes\n",
    "\n",
    "numeros = list(range(10))\n",
    "print(\"numeros =\", numeros)\n",
    "\n",
    "# vai retornar uma lista com 5 numeros escolhidos aleatoriamente contidos em outra lista\n",
    "amostra = [random.choice(numeros) for _ in range(5)]\n",
    "print(\"amostra =\", amostra)"
   ]
  }
 ],
 "metadata": {
  "kernelspec": {
   "display_name": "Python 3",
   "language": "python",
   "name": "python3"
  },
  "language_info": {
   "codemirror_mode": {
    "name": "ipython",
    "version": 3
   },
   "file_extension": ".py",
   "mimetype": "text/x-python",
   "name": "python",
   "nbconvert_exporter": "python",
   "pygments_lexer": "ipython3",
   "version": "3.8.5"
  }
 },
 "nbformat": 4,
 "nbformat_minor": 4
}
