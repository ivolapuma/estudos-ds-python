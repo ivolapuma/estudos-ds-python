{
 "cells": [
  {
   "cell_type": "code",
   "execution_count": null,
   "metadata": {},
   "outputs": [],
   "source": [
    "#\n",
    "# 2 A Crash Course in Python\n",
    "#\n",
    "# 2.2 The Not-So-Basics"
   ]
  },
  {
   "cell_type": "code",
   "execution_count": null,
   "metadata": {},
   "outputs": [],
   "source": [
    "#\n",
    "# Sorting\n",
    "#"
   ]
  },
  {
   "cell_type": "code",
   "execution_count": 4,
   "metadata": {},
   "outputs": [
    {
     "name": "stdout",
     "output_type": "stream",
     "text": [
      "x = [4, 1, 3, 2]\n",
      "y recebe x ordenado y = [1, 2, 3, 4]\n",
      "x permanece o mesmo x = [4, 1, 3, 2]\n",
      "sort() nao retorna nada x.sortd() = None\n",
      "x foi ordenado x = [1, 2, 3, 4]\n"
     ]
    }
   ],
   "source": [
    "x = [4, 1, 3, 2]\n",
    "print(\"x =\", x)\n",
    "\n",
    "# sorted() retorna uma nova lista, com os valores de x ordenados\n",
    "y = sorted(x)  \n",
    "print(\"y recebe x ordenado\", \"y =\", y)\n",
    "print(\"x permanece o mesmo\", \"x =\", x)\n",
    "\n",
    "# sort ordena a lista (porem nao retorna nada) e, consequentemente, alterando a lista\n",
    "print(\"sort() nao retorna nada\", \"x.sortd() =\", x.sort()) \n",
    "print(\"x foi ordenado\", \"x =\", x)"
   ]
  },
  {
   "cell_type": "code",
   "execution_count": 6,
   "metadata": {},
   "outputs": [
    {
     "name": "stdout",
     "output_type": "stream",
     "text": [
      "x = [3, 1, 4, 2]\n",
      "x ordenado desc = [4, 3, 2, 1]\n",
      "x = [-4, 1, -2, 3]\n",
      "abs(x) ordenado desc = [-4, 3, -2, 1]\n"
     ]
    }
   ],
   "source": [
    "# por padrao, sort() e sorted() ordenam ascendentemente\n",
    "# para ordenar descendentemente, defina o parametro reverse=Ture\n",
    "\n",
    "x = [3, 1, 4, 2]\n",
    "print(\"x =\", x)\n",
    "print(\"x ordenado desc =\", sorted(x, reverse=True))\n",
    "\n",
    "# pode-se aplicar uma funcao (definindo noparametro key) para que seu retorno seja ordenado\n",
    "x = [-4, 1, -2, 3]\n",
    "print(\"x =\", x)\n",
    "print(\"abs(x) ordenado desc =\", sorted(x, key=abs, reverse=True))"
   ]
  },
  {
   "cell_type": "code",
   "execution_count": 17,
   "metadata": {},
   "outputs": [
    {
     "name": "stdout",
     "output_type": "stream",
     "text": [
      "word_counts.items() = dict_items([('nada', 1), ('menos', 1), ('de', 3), ('duas', 2), ('almas', 2), ('cada', 1), ('criatura', 1), ('humana', 1), ('traz', 1), ('consigo', 1), ('uma', 1), ('que', 2), ('olha', 2), ('dentro', 1), ('para', 2), ('fora', 2), ('outra', 1), ('entro', 1)])\n",
      "\n",
      "nada : 1\n",
      "menos : 1\n",
      "de : 3\n",
      "duas : 2\n",
      "almas : 2\n",
      "cada : 1\n",
      "criatura : 1\n",
      "humana : 1\n",
      "traz : 1\n",
      "consigo : 1\n",
      "uma : 1\n",
      "que : 2\n",
      "olha : 2\n",
      "dentro : 1\n",
      "para : 2\n",
      "fora : 2\n",
      "outra : 1\n",
      "entro : 1\n",
      "\n",
      "word_counts_sorted = [('de', 3), ('duas', 2), ('almas', 2), ('que', 2), ('olha', 2), ('para', 2), ('fora', 2), ('nada', 1), ('menos', 1), ('cada', 1), ('criatura', 1), ('humana', 1), ('traz', 1), ('consigo', 1), ('uma', 1), ('dentro', 1), ('outra', 1), ('entro', 1)]\n",
      "\n",
      "de : 3\n",
      "duas : 2\n",
      "almas : 2\n",
      "que : 2\n",
      "olha : 2\n",
      "para : 2\n",
      "fora : 2\n",
      "nada : 1\n",
      "menos : 1\n",
      "cada : 1\n",
      "criatura : 1\n",
      "humana : 1\n",
      "traz : 1\n",
      "consigo : 1\n",
      "uma : 1\n",
      "dentro : 1\n",
      "outra : 1\n",
      "entro : 1\n"
     ]
    }
   ],
   "source": [
    "document = [\n",
    "    \"nada\", \"menos\", \"de\", \"duas\", \"almas\", \"cada\", \"criatura\", \"humana\", \"traz\", \"duas\", \n",
    "    \"almas\", \"consigo\", \"uma\", \"que\", \"olha\", \"de\", \"dentro\", \"para\", \"fora\", \"outra\", \n",
    "    \"que\", \"olha\", \"de\", \"fora\", \"para\", \"entro\"   \n",
    "]\n",
    "\n",
    "from collections import defaultdict\n",
    "\n",
    "word_counts = defaultdict(int)  #  a funcao int() devolve 0\n",
    "\n",
    "for word in document:\n",
    "    word_counts[word] += 1\n",
    "    \n",
    "print(\"word_counts.items() =\", word_counts.items())\n",
    "\n",
    "print()\n",
    "for (word, count) in word_counts.items():\n",
    "    print(word, \":\", count)\n",
    "\n",
    "# ordena as palavras da lista e faz a contagem da maior para a menor\n",
    "word_counts_sorted = sorted(word_counts.items(),\n",
    "                            key=lambda item: item[1],\n",
    "                            reverse=True)\n",
    "print()\n",
    "print(\"word_counts_sorted =\", word_counts_sorted)\n",
    "\n",
    "print()\n",
    "for (word, count) in word_counts_sorted:\n",
    "    print(word, \":\", count)"
   ]
  }
 ],
 "metadata": {
  "kernelspec": {
   "display_name": "Python 3",
   "language": "python",
   "name": "python3"
  },
  "language_info": {
   "codemirror_mode": {
    "name": "ipython",
    "version": 3
   },
   "file_extension": ".py",
   "mimetype": "text/x-python",
   "name": "python",
   "nbconvert_exporter": "python",
   "pygments_lexer": "ipython3",
   "version": "3.8.5"
  }
 },
 "nbformat": 4,
 "nbformat_minor": 4
}
