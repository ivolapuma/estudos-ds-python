{
 "cells": [
  {
   "cell_type": "code",
   "execution_count": null,
   "metadata": {},
   "outputs": [],
   "source": [
    "#\n",
    "# 2 A Crash Course in Python\n",
    "#\n",
    "# 2.2 The Not-So-Basics"
   ]
  },
  {
   "cell_type": "code",
   "execution_count": null,
   "metadata": {},
   "outputs": [],
   "source": [
    "#\n",
    "# args and kwargs\n",
    "#"
   ]
  },
  {
   "cell_type": "code",
   "execution_count": 3,
   "metadata": {},
   "outputs": [
    {
     "name": "stdout",
     "output_type": "stream",
     "text": [
      "g(3) deve ser 8, pois (2 * (3 + 1)) =  8\n",
      "g(-1) deve ser 0, pois (2 * (-1 + 1)) = 0\n"
     ]
    }
   ],
   "source": [
    "# vamos considerar uma funcao de ordem superior que recebe como parametro uma funcao f e retorna\n",
    "# uma nova funcao que para qualquer parametro retorna o dobro do valor de f\n",
    "\n",
    "def doubler(f):\n",
    "    \"\"\"doubler eh uma funcao de ordem superior (higher-order function) que retorna\n",
    "    uma outra funcao que duplica o valor a ser retornado pela funcao f (parametro) \"\"\"\n",
    "    def g(x):\n",
    "        return 2 * f(x)\n",
    "    return g\n",
    "\n",
    "# exemplo...\n",
    "\n",
    "def f1(x):\n",
    "    \"\"\"retorna o valor de x + 1\"\"\"\n",
    "    return x + 1\n",
    "\n",
    "g = doubler(f1)  # g eh a referencia para a funcao doubler(f1)\n",
    "print(\"g(3) deve ser 8, pois (2 * (3 + 1)) = \", g(3))\n",
    "print(\"g(-1) deve ser 0, pois (2 * (-1 + 1)) =\", g(-1))"
   ]
  },
  {
   "cell_type": "code",
   "execution_count": 4,
   "metadata": {},
   "outputs": [
    {
     "ename": "TypeError",
     "evalue": "g() takes 1 positional argument but 2 were given",
     "output_type": "error",
     "traceback": [
      "\u001b[0;31m---------------------------------------------------------------------------\u001b[0m",
      "\u001b[0;31mTypeError\u001b[0m                                 Traceback (most recent call last)",
      "\u001b[0;32m<ipython-input-4-cb301b765c4e>\u001b[0m in \u001b[0;36m<module>\u001b[0;34m\u001b[0m\n\u001b[1;32m      6\u001b[0m \u001b[0;34m\u001b[0m\u001b[0m\n\u001b[1;32m      7\u001b[0m \u001b[0mg\u001b[0m \u001b[0;34m=\u001b[0m \u001b[0mdoubler\u001b[0m\u001b[0;34m(\u001b[0m\u001b[0mf2\u001b[0m\u001b[0;34m)\u001b[0m\u001b[0;34m\u001b[0m\u001b[0;34m\u001b[0m\u001b[0m\n\u001b[0;32m----> 8\u001b[0;31m \u001b[0mprint\u001b[0m\u001b[0;34m(\u001b[0m\u001b[0;34m\"g(1, 2) deve ser 6, pois (2 * (1 + 3)) =\"\u001b[0m\u001b[0;34m,\u001b[0m \u001b[0mg\u001b[0m\u001b[0;34m(\u001b[0m\u001b[0;36m1\u001b[0m\u001b[0;34m,\u001b[0m \u001b[0;36m2\u001b[0m\u001b[0;34m)\u001b[0m\u001b[0;34m)\u001b[0m\u001b[0;34m\u001b[0m\u001b[0;34m\u001b[0m\u001b[0m\n\u001b[0m",
      "\u001b[0;31mTypeError\u001b[0m: g() takes 1 positional argument but 2 were given"
     ]
    }
   ],
   "source": [
    "# agora, um exemplo com uma funcao que recebe dois parametros...\n",
    "\n",
    "def f2(x, y):\n",
    "    \"\"\"retorna o valor de x + y\"\"\"\n",
    "    return x + y\n",
    "\n",
    "g = doubler(f2)\n",
    "print(\"g(1, 2) deve ser 6, pois (2 * (1 + 3)) =\", g(1, 2))\n",
    "\n",
    "# na verdade vai lancar \"TypeError: g() takes 1 positional argument but 2 were given\""
   ]
  },
  {
   "cell_type": "code",
   "execution_count": 7,
   "metadata": {},
   "outputs": [
    {
     "name": "stdout",
     "output_type": "stream",
     "text": [
      "parametros anonimos: (1, 2)\n",
      "parametros palavra-chave (keyword): {'key': 'word', 'key2': 'word2'}\n",
      "parametros anonimos: ('a', 'b', 'c')\n",
      "parametros palavra-chave (keyword): {'um': 1, 'dois': 2, 'tres': 3, 'quatro': 4}\n"
     ]
    }
   ],
   "source": [
    "# para isso funcionar, eh preciso definir uma funcao que recebe parametros arbitrarios\n",
    "# podemos fazer isso com desempacotamento de parametros e um pouquinho de 'magia'...\n",
    "\n",
    "def magia(*args, **kwargs):\n",
    "    \"\"\"\n",
    "    args eh uma tupla\n",
    "    kwargs eh um dicionario\n",
    "    \"\"\"\n",
    "    print(\"parametros anonimos:\", args)\n",
    "    print(\"parametros palavra-chave (keyword):\", kwargs)\n",
    "    \n",
    "magia(1, 2, key=\"word\", key2=\"word2\")\n",
    "magia('a', 'b', 'c', um=1, dois=2, tres=3, quatro=4)"
   ]
  },
  {
   "cell_type": "code",
   "execution_count": 8,
   "metadata": {},
   "outputs": [
    {
     "name": "stdout",
     "output_type": "stream",
     "text": [
      "6\n"
     ]
    }
   ],
   "source": [
    "# uma forma que seria a 'operacao inversa', o uso dos operadores de desempacotamento \n",
    "# de parametros * e ** eh na chamada da funcao\n",
    "\n",
    "def outra_magia(x, y, z):\n",
    "    \"\"\"Retorna a soma de x, y e z.\"\"\"\n",
    "    return x + y + z\n",
    "\n",
    "lista_com_2 = [1, 2]\n",
    "dicionario_com_1 = {\"z\": 3}\n",
    "print(outra_magia(*lista_com_2, **dicionario_com_1))"
   ]
  },
  {
   "cell_type": "code",
   "execution_count": 13,
   "metadata": {},
   "outputs": [
    {
     "name": "stdout",
     "output_type": "stream",
     "text": [
      "g(1, 2) deve ser 6, pois (2 * (1 + 3)) = 6\n"
     ]
    }
   ],
   "source": [
    "# sendo assim, podemos fazer uma nova versao da funcao de ordem superior...\n",
    "\n",
    "def doubler(f):\n",
    "    \"\"\"Funciona nao importa o numero de parametros esperado por f.\"\"\"\n",
    "    def g(*args, **kwargs):\n",
    "        \"\"\"Quaisquer parametros que g receba, todos serao passado para f.\"\"\"\n",
    "        return 2 * f(*args, **kwargs)\n",
    "    return g\n",
    "\n",
    "def f2(x, y):\n",
    "    \"\"\"retorna o valor de x + y\"\"\"\n",
    "    return x + y\n",
    "\n",
    "g = doubler(f2)\n",
    "print(\"g(1, 2) deve ser 6, pois (2 * (1 + 3)) =\", g(1, 2))\n",
    "\n",
    "# agora NAO lanca mais \"TypeError: g() takes 1 positional argument but 2 were given\""
   ]
  }
 ],
 "metadata": {
  "kernelspec": {
   "display_name": "Python 3",
   "language": "python",
   "name": "python3"
  },
  "language_info": {
   "codemirror_mode": {
    "name": "ipython",
    "version": 3
   },
   "file_extension": ".py",
   "mimetype": "text/x-python",
   "name": "python",
   "nbconvert_exporter": "python",
   "pygments_lexer": "ipython3",
   "version": "3.8.5"
  }
 },
 "nbformat": 4,
 "nbformat_minor": 4
}
