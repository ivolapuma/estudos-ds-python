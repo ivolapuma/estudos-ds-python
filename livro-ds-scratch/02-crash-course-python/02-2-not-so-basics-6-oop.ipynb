{
 "cells": [
  {
   "cell_type": "code",
   "execution_count": null,
   "metadata": {},
   "outputs": [],
   "source": [
    "#\n",
    "# 2 A Crash Course in Python\n",
    "#\n",
    "# 2.2 The Not-So-Basics"
   ]
  },
  {
   "cell_type": "code",
   "execution_count": null,
   "metadata": {},
   "outputs": [],
   "source": [
    "#\n",
    "# Object-Oriented Programming\n",
    "#"
   ]
  },
  {
   "cell_type": "code",
   "execution_count": 1,
   "metadata": {},
   "outputs": [],
   "source": [
    "# uma classe que poderia ser o 'set' do Python\n",
    "# vai fornecer metodos para adicionar, remover e verificar itens em um conjunto (set)\n",
    "\n",
    "class Set:\n",
    "    \n",
    "    # aqui vao as funcoes membros (ou metodos)\n",
    "    # cada metodo recebe um 'self' como 1o parametro (isso eh uma convencao do Python)\n",
    "    # esse parametro faz referencia ao objeto de Set que vai chamar o metodo\n",
    "    \n",
    "    def __init__(self, values=None):\n",
    "        \"\"\"Esse eh o metodo construtor.\n",
    "        Ele eh chamado quando um novo objeto de Set eh criado.\n",
    "        Pode ser usado:\n",
    "        s1 = Set()              # objeto Set vazio\n",
    "        s2 = Set([1, 2, 2, 3])  # objeto Set inicializado com valores\"\"\"\n",
    "        self.dict = {}  # cada objeto de Set tera um dicionario que sera usado para mapear seu conteudo\n",
    "        if values is not None:\n",
    "            for value in values:\n",
    "                self.add(value)\n",
    "                \n",
    "    def __repr__(self):\n",
    "        \"\"\"Retorna uma string que representa o objeto de Set.\n",
    "        No prompt do Python ou enviando como parametro string em uma funcao (ex. str() ou print()),\n",
    "        essa funcao sera chamada\"\"\"\n",
    "        return \"Set: \" + str(self.dict.keys())\n",
    "    \n",
    "    def add(self, value):\n",
    "        \"\"\"Adiciona um item ao conjunto.\n",
    "        Internamente, cada item sera uma chave no dicionario.\"\"\"\n",
    "        self.dict[value] = True\n",
    "        \n",
    "    def contains(self, value):\n",
    "        \"\"\"Verifica se o item existe no conjunto.\n",
    "        O item deve estar como uma chave no dicionario interno do Set.\"\"\"\n",
    "        return value in self.dict\n",
    "    \n",
    "    def remove(self, value):\n",
    "        \"\"\"Remove, se existir, o item do conjunto\"\"\"\n",
    "        del self.dict[value]"
   ]
  },
  {
   "cell_type": "code",
   "execution_count": 4,
   "metadata": {},
   "outputs": [
    {
     "name": "stdout",
     "output_type": "stream",
     "text": [
      "Set: dict_keys([1, 2, 3])\n",
      "Set: dict_keys([1, 2, 3, 4])\n",
      "s tem 4? True\n",
      "Set: dict_keys([1, 2, 4])\n",
      "s tem 3? False\n"
     ]
    }
   ],
   "source": [
    "# criando objetos de Set\n",
    "\n",
    "s = Set([1, 2, 3])\n",
    "print(s)\n",
    "\n",
    "s.add(4)\n",
    "print(s)\n",
    "print(\"s tem 4?\", s.contains(4))\n",
    "\n",
    "s.remove(3)\n",
    "print(s)\n",
    "print(\"s tem 3?\", s.contains(3))\n"
   ]
  }
 ],
 "metadata": {
  "kernelspec": {
   "display_name": "Python 3",
   "language": "python",
   "name": "python3"
  },
  "language_info": {
   "codemirror_mode": {
    "name": "ipython",
    "version": 3
   },
   "file_extension": ".py",
   "mimetype": "text/x-python",
   "name": "python",
   "nbconvert_exporter": "python",
   "pygments_lexer": "ipython3",
   "version": "3.8.5"
  }
 },
 "nbformat": 4,
 "nbformat_minor": 4
}
