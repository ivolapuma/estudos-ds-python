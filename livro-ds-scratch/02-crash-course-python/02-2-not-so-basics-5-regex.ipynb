{
 "cells": [
  {
   "cell_type": "code",
   "execution_count": null,
   "metadata": {},
   "outputs": [],
   "source": [
    "#\n",
    "# 2 A Crash Course in Python\n",
    "#\n",
    "# 2.2 The Not-So-Basics"
   ]
  },
  {
   "cell_type": "code",
   "execution_count": null,
   "metadata": {},
   "outputs": [],
   "source": [
    "#\n",
    "# Regular Expressions\n",
    "#"
   ]
  },
  {
   "cell_type": "code",
   "execution_count": 28,
   "metadata": {},
   "outputs": [
    {
     "name": "stdout",
     "output_type": "stream",
     "text": [
      "*** metodo match() ***\n",
      "'gato' começa com 'g' = <re.Match object; span=(0, 1), match='g'>\n",
      "'gato' começa com 'c' = None\n",
      "'cachorro-quente' começa com 'cachorro' = <re.Match object; span=(0, 8), match='cachorro'>\n",
      "\n",
      "*** metodo search() ***\n",
      "'gato' tem 't' = <re.Match object; span=(2, 3), match='t'>\n",
      "'gato' tem 'x' = None\n",
      "'cachorro-quente' tem 'salsicha' = None\n",
      "\n",
      "*** metodo split() ***\n",
      "split() 'projeto-retaguarda-lmpm' por '-' = ['projeto', 'retaguarda', 'lmpm']\n",
      "split() 'projeto-retaguarda-lmpm' por '[-]' = ['projeto', 'retaguarda', 'lmpm']\n",
      "split() 'campos,separados,por,virgulas,ou;ponto-e-virgulas' por '[,;]' = ['campos', 'separados', 'por', 'virgulas', 'ou', 'ponto-e-virgulas']\n",
      "\n",
      "split() 'um.texto,.que;esta;,separado.por,.;combinacoes,de.pontuacao' por '[,;.]':\n",
      "['um', 'texto', '', 'que', 'esta', '', 'separado', 'por', '', '', 'combinacoes', 'de', 'pontuacoes']\n",
      "\n",
      "*** metodo sub() ***\n",
      "substitui digitos de 0 a 9 por '*' em 'Av. Corifeu de Azevedo Marques, 3097':\n",
      "Av. Corifeu de Azevedo Marques, ****\n",
      "\n"
     ]
    }
   ],
   "source": [
    "import re\n",
    "\n",
    "# metodo match() --> verifica se a string combina com o inicio da string-alvo\n",
    "print(\"*** metodo match() ***\")\n",
    "print(\"'gato' começa com 'g' =\", re.match(\"g\", \"gato\"))  \n",
    "print(\"'gato' começa com 'c' =\", re.match(\"c\", \"gato\"))\n",
    "print(\"'cachorro-quente' começa com 'cachorro' =\", re.match(\"cachorro\", \"cachorro-quente\"))\n",
    "print()\n",
    "\n",
    "# metodo search() --> verifica se a string esta contida na string-alvo\n",
    "print(\"*** metodo search() ***\")\n",
    "print(\"'gato' tem 't' =\", re.search(\"t\", \"gato\"))\n",
    "print(\"'gato' tem 'x' =\", re.search(\"x\", \"gato\"))\n",
    "print(\"'cachorro-quente' tem 'salsicha' =\", re.search(\"salsicha\", \"cachorro-quente\"))\n",
    "print()\n",
    "\n",
    "# metodo split() --> retorna um list de strings como resultado da separacao de outra string por um conjunto de caracteres\n",
    "print(\"*** metodo split() ***\")\n",
    "print(\"split() 'projeto-retaguarda-lmpm' por '-' =\", re.split(\"-\", \"projeto-retaguarda-lmpm\"))\n",
    "print(\"split() 'projeto-retaguarda-lmpm' por '[-]' =\", re.split(\"[-]\", \"projeto-retaguarda-lmpm\"))\n",
    "print(\"split() 'campos,separados,por,virgulas,ou;ponto-e-virgulas' por '[,;]' =\", re.split(\"[,;]\", \"campos,separados,por,virgulas,ou;ponto-e-virgulas\"))\n",
    "print()\n",
    "print(\"split() 'um.texto,.que;esta;,separado.por,.;combinacoes,de.pontuacao' por '[,;.]':\")\n",
    "print(re.split(\"[,;.]\", \"um.texto,.que;esta;,separado.por,.;combinacoes,de.pontuacoes\"))\n",
    "# note as strings vazias retornadas na list, referem-se ao 'vazio' que ha entre as pontuacoes consecutivas\n",
    "print()\n",
    "\n",
    "# metodo sub()\n",
    "print(\"*** metodo sub() ***\")\n",
    "print(\"substitui digitos de 0 a 9 por '*' em 'Av. Corifeu de Azevedo Marques, 3097':\")\n",
    "print(re.sub('[0-9]', '*', 'Av. Corifeu de Azevedo Marques, 3097'))\n",
    "print()\n",
    "\n"
   ]
  }
 ],
 "metadata": {
  "kernelspec": {
   "display_name": "Python 3",
   "language": "python",
   "name": "python3"
  },
  "language_info": {
   "codemirror_mode": {
    "name": "ipython",
    "version": 3
   },
   "file_extension": ".py",
   "mimetype": "text/x-python",
   "name": "python",
   "nbconvert_exporter": "python",
   "pygments_lexer": "ipython3",
   "version": "3.8.5"
  }
 },
 "nbformat": 4,
 "nbformat_minor": 4
}
