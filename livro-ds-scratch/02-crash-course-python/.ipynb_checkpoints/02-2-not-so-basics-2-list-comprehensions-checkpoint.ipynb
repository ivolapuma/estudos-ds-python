{
 "cells": [
  {
   "cell_type": "code",
   "execution_count": null,
   "metadata": {},
   "outputs": [],
   "source": [
    "#\n",
    "# 2 A Crash Course in Python\n",
    "#\n",
    "# 2.2 The Not-So-Basics"
   ]
  },
  {
   "cell_type": "code",
   "execution_count": null,
   "metadata": {},
   "outputs": [],
   "source": [
    "#\n",
    "# List Comprehensions\n",
    "#"
   ]
  },
  {
   "cell_type": "code",
   "execution_count": 4,
   "metadata": {},
   "outputs": [
    {
     "name": "stdout",
     "output_type": "stream",
     "text": [
      "pares = [0, 2, 4, 6, 8]\n",
      "quadrados = [0, 1, 4, 9, 16, 25, 36, 49, 64, 81]\n",
      "quadrados_dos_pares = [0, 4, 16, 36, 64]\n"
     ]
    }
   ],
   "source": [
    "pares = [x for x in range(10) if x % 2 == 0]\n",
    "print(\"pares =\", pares)\n",
    "\n",
    "quadrados = [x * x for x in range(10)]\n",
    "print(\"quadrados =\", quadrados)\n",
    "\n",
    "quadrados_dos_pares = [x * x for x in pares]\n",
    "print(\"quadrados_dos_pares =\", quadrados_dos_pares)"
   ]
  },
  {
   "cell_type": "code",
   "execution_count": 7,
   "metadata": {},
   "outputs": [
    {
     "name": "stdout",
     "output_type": "stream",
     "text": [
      "quadrados_dict = {0: 0, 1: 1, 2: 4, 3: 9, 4: 16, 5: 25, 6: 36, 7: 49, 8: 64, 9: 81}\n",
      "0 0\n",
      "1 1\n",
      "2 4\n",
      "3 9\n",
      "4 16\n",
      "5 25\n",
      "6 36\n",
      "7 49\n",
      "8 64\n",
      "9 81\n"
     ]
    }
   ],
   "source": [
    "# o mesmo pode ser usado para tornar listas em dicionarios...\n",
    "\n",
    "quadrados_dict = {x : x * x for x in range(10)}\n",
    "print(\"quadrados_dict =\", quadrados_dict)\n",
    "for x, x2 in quadrados_dict.items():\n",
    "    print(x, x2)"
   ]
  },
  {
   "cell_type": "code",
   "execution_count": 8,
   "metadata": {},
   "outputs": [
    {
     "name": "stdout",
     "output_type": "stream",
     "text": [
      "quadrados_set = {1}\n"
     ]
    }
   ],
   "source": [
    "# ...  ou conjuntos\n",
    "\n",
    "quadrados_set = {x * x for x in [1, -1]}\n",
    "print(\"quadrados_set =\", quadrados_set)"
   ]
  },
  {
   "cell_type": "code",
   "execution_count": 9,
   "metadata": {},
   "outputs": [
    {
     "name": "stdout",
     "output_type": "stream",
     "text": [
      "pares = [0, 2, 4, 6, 8]\n",
      "zeros = [0, 0, 0, 0, 0]\n"
     ]
    }
   ],
   "source": [
    "# para ignorar um valor em uma lista, usa-se o '_' (underscore) como uma variavel\n",
    "\n",
    "pares = [x for x in range(10) if x % 2 == 0]\n",
    "zeros = [0 for _ in pares]  # a lista tera o mesmo tamanho de 'pares'\n",
    "print(\"pares =\", pares)\n",
    "print(\"zeros =\", zeros)"
   ]
  },
  {
   "cell_type": "code",
   "execution_count": 10,
   "metadata": {},
   "outputs": [
    {
     "name": "stdout",
     "output_type": "stream",
     "text": [
      "pontos = [(0, 0), (0, 1), (0, 2), (0, 3), (0, 4), (0, 5), (0, 6), (0, 7), (0, 8), (0, 9), (1, 0), (1, 1), (1, 2), (1, 3), (1, 4), (1, 5), (1, 6), (1, 7), (1, 8), (1, 9), (2, 0), (2, 1), (2, 2), (2, 3), (2, 4), (2, 5), (2, 6), (2, 7), (2, 8), (2, 9), (3, 0), (3, 1), (3, 2), (3, 3), (3, 4), (3, 5), (3, 6), (3, 7), (3, 8), (3, 9), (4, 0), (4, 1), (4, 2), (4, 3), (4, 4), (4, 5), (4, 6), (4, 7), (4, 8), (4, 9), (5, 0), (5, 1), (5, 2), (5, 3), (5, 4), (5, 5), (5, 6), (5, 7), (5, 8), (5, 9), (6, 0), (6, 1), (6, 2), (6, 3), (6, 4), (6, 5), (6, 6), (6, 7), (6, 8), (6, 9), (7, 0), (7, 1), (7, 2), (7, 3), (7, 4), (7, 5), (7, 6), (7, 7), (7, 8), (7, 9), (8, 0), (8, 1), (8, 2), (8, 3), (8, 4), (8, 5), (8, 6), (8, 7), (8, 8), (8, 9), (9, 0), (9, 1), (9, 2), (9, 3), (9, 4), (9, 5), (9, 6), (9, 7), (9, 8), (9, 9)]\n"
     ]
    }
   ],
   "source": [
    "# uma list comprehension pode incluir multiplos 'for'\n",
    "\n",
    "pontos = [(x, y)\n",
    "          for x in range(10)\n",
    "          for y in range(10)]\n",
    "print(\"pontos =\", pontos)"
   ]
  },
  {
   "cell_type": "code",
   "execution_count": 11,
   "metadata": {},
   "outputs": [
    {
     "name": "stdout",
     "output_type": "stream",
     "text": [
      "pontos_crescentes = [(0, 1), (0, 2), (0, 3), (0, 4), (0, 5), (0, 6), (0, 7), (0, 8), (0, 9), (1, 2), (1, 3), (1, 4), (1, 5), (1, 6), (1, 7), (1, 8), (1, 9), (2, 3), (2, 4), (2, 5), (2, 6), (2, 7), (2, 8), (2, 9), (3, 4), (3, 5), (3, 6), (3, 7), (3, 8), (3, 9), (4, 5), (4, 6), (4, 7), (4, 8), (4, 9), (5, 6), (5, 7), (5, 8), (5, 9), (6, 7), (6, 8), (6, 9), (7, 8), (7, 9), (8, 9)]\n"
     ]
    }
   ],
   "source": [
    "# e o 'for' seguinte pode usar os resultados dos 'for' anteriores\n",
    "\n",
    "pontos_crescentes = [(x, y)\n",
    "                     for x in range(10)           # range(10),  retorna [0, 1, 2, ..., 8, 9]\n",
    "                     for y in range(x + 1, 10)]   # range(x, y), retorna [x, x+1, x+2, ..., y-2, y-1]\n",
    "print(\"pontos_crescentes =\", pontos_crescentes)"
   ]
  }
 ],
 "metadata": {
  "kernelspec": {
   "display_name": "Python 3",
   "language": "python",
   "name": "python3"
  },
  "language_info": {
   "codemirror_mode": {
    "name": "ipython",
    "version": 3
   },
   "file_extension": ".py",
   "mimetype": "text/x-python",
   "name": "python",
   "nbconvert_exporter": "python",
   "pygments_lexer": "ipython3",
   "version": "3.8.5"
  }
 },
 "nbformat": 4,
 "nbformat_minor": 4
}
