{
 "cells": [
  {
   "cell_type": "code",
   "execution_count": null,
   "metadata": {},
   "outputs": [],
   "source": [
    "#\n",
    "# 2 A Crash Course in Python\n",
    "#\n",
    "# 2.2 The Not-So-Basics"
   ]
  },
  {
   "cell_type": "code",
   "execution_count": null,
   "metadata": {},
   "outputs": [],
   "source": [
    "#\n",
    "# Generators and Iterators\n",
    "#"
   ]
  },
  {
   "cell_type": "code",
   "execution_count": 1,
   "metadata": {},
   "outputs": [
    {
     "name": "stdout",
     "output_type": "stream",
     "text": [
      "0\n",
      "1\n",
      "2\n",
      "3\n",
      "4\n",
      "5\n",
      "6\n",
      "7\n",
      "8\n",
      "9\n"
     ]
    }
   ],
   "source": [
    "# uma forma de criar um generator eh com funcoes e com o operador 'yield'\n",
    "\n",
    "def lazy_range(n):\n",
    "    '''uma versao \"lazy\" da funcao range()'''\n",
    "    i = 0\n",
    "    while i < n:\n",
    "        yield i\n",
    "        i += 1\n",
    "\n",
    "for i in lazy_range(10):\n",
    "    print(i)"
   ]
  },
  {
   "cell_type": "code",
   "execution_count": 4,
   "metadata": {},
   "outputs": [
    {
     "name": "stdout",
     "output_type": "stream",
     "text": [
      "1\n",
      "2\n",
      "3\n",
      "4\n",
      "5\n",
      "6\n",
      "7\n",
      "8\n",
      "9\n",
      "10\n",
      "11\n",
      "12\n",
      "13\n",
      "14\n",
      "15\n",
      "16\n",
      "17\n",
      "18\n",
      "19\n",
      "20\n",
      "21\n",
      "22\n",
      "23\n",
      "24\n",
      "25\n",
      "26\n",
      "27\n",
      "28\n",
      "29\n",
      "30\n",
      "31\n",
      "32\n",
      "33\n",
      "34\n",
      "35\n",
      "36\n",
      "37\n",
      "38\n",
      "39\n",
      "40\n",
      "41\n",
      "42\n",
      "43\n",
      "44\n",
      "45\n",
      "46\n",
      "47\n",
      "48\n",
      "49\n",
      "50\n",
      "51\n",
      "52\n",
      "53\n",
      "54\n",
      "55\n",
      "56\n",
      "57\n",
      "58\n",
      "59\n",
      "60\n",
      "61\n",
      "62\n",
      "63\n",
      "64\n",
      "65\n",
      "66\n",
      "67\n",
      "68\n",
      "69\n",
      "70\n",
      "71\n",
      "72\n",
      "73\n",
      "74\n",
      "75\n",
      "76\n",
      "77\n",
      "78\n",
      "79\n",
      "80\n",
      "81\n",
      "82\n",
      "83\n",
      "84\n",
      "85\n",
      "86\n",
      "87\n",
      "88\n",
      "89\n",
      "90\n",
      "91\n",
      "92\n",
      "93\n",
      "94\n",
      "95\n",
      "96\n",
      "97\n",
      "98\n",
      "99\n",
      "100\n"
     ]
    }
   ],
   "source": [
    "# No Python 3, o range() ja eh lazy\n",
    "# Assim, pode-se inclusive criar sequencias infinitas\n",
    "\n",
    "def numeros_naturais():\n",
    "    '''retorna 1, 2, 3, ...'''\n",
    "    n = 1\n",
    "    while True:\n",
    "        yield n\n",
    "        n += 1\n",
    "        \n",
    "for n in numeros_naturais():\n",
    "    print(n)\n",
    "    if n >= 100:\n",
    "        break"
   ]
  },
  {
   "cell_type": "code",
   "execution_count": null,
   "metadata": {},
   "outputs": [],
   "source": [
    "# IMPORTANTE:\n",
    "# a contrapartida em usar um generator eh que este so pode ser iterado uma ver\n",
    "# se for necessario iterar alguma coisa diversas vezes, sera necessario recriar o generator a cada vez\n",
    "# ou usar uma lista"
   ]
  },
  {
   "cell_type": "code",
   "execution_count": 8,
   "metadata": {},
   "outputs": [
    {
     "name": "stdout",
     "output_type": "stream",
     "text": [
      "pares_abaixo_20_lazy = <generator object <genexpr> at 0x7f73bca73f20>\n",
      "iterando pela 1a vez...\n",
      "0\n",
      "2\n",
      "4\n",
      "6\n",
      "8\n",
      "10\n",
      "12\n",
      "14\n",
      "16\n",
      "18\n",
      "iterando pela 2a vez...\n",
      "parece que nada aconteceu!\n"
     ]
    }
   ],
   "source": [
    "# outra forma de criar generators eh por meio de comprehension envolvidas entre parenteses...\n",
    "\n",
    "def lazy_range(n):\n",
    "    '''uma versao \"lazy\" da funcao range()'''\n",
    "    i = 0\n",
    "    while i < n:\n",
    "        yield i\n",
    "        i += 1\n",
    "        \n",
    "pares_abaixo_20_lazy = (i for i in lazy_range(20) if i % 2 == 0)\n",
    "print(\"pares_abaixo_20_lazy =\", pares_abaixo_20_lazy)\n",
    "\n",
    "print(\"iterando pela 1a vez...\")\n",
    "for n in pares_abaixo_20_lazy:\n",
    "    print(n)\n",
    "\n",
    "print(\"iterando pela 2a vez...\")\n",
    "for n in pares_abaixo_20_lazy:\n",
    "    print(n)\n",
    "print(\"parece que nada aconteceu!\")"
   ]
  },
  {
   "cell_type": "code",
   "execution_count": 10,
   "metadata": {},
   "outputs": [
    {
     "name": "stdout",
     "output_type": "stream",
     "text": [
      "items: <class 'dict_items'> dict_items([(0, 0), (1, 1), (2, 1), (3, 2), (4, 3), (5, 5), (6, 8), (7, 13), (8, 21)])\n"
     ]
    }
   ],
   "source": [
    "# IMPORTANTE:\n",
    "# Somente para Python 2\n",
    "# um dicionario tem o metodos items() que retorna uma lista de pares chave-valor\n",
    "# existe tbm o metodo iteritems(), que retorna um generator para acessar os pares chave-valor do dicionario\n",
    "\n",
    "d = {0:0, 1:1, 2:1, 3:2, 4:3, 5:5, 6:8, 7:13, 8:21}\n",
    "items = d.items()\n",
    "# iteritems = d.iteritems()\n",
    "\n",
    "print(\"items:\", type(items), items)\n",
    "# print(\"iteritems:\", type(iteritems), iteritems)"
   ]
  }
 ],
 "metadata": {
  "kernelspec": {
   "display_name": "Python 3",
   "language": "python",
   "name": "python3"
  },
  "language_info": {
   "codemirror_mode": {
    "name": "ipython",
    "version": 3
   },
   "file_extension": ".py",
   "mimetype": "text/x-python",
   "name": "python",
   "nbconvert_exporter": "python",
   "pygments_lexer": "ipython3",
   "version": "3.8.5"
  }
 },
 "nbformat": 4,
 "nbformat_minor": 4
}
