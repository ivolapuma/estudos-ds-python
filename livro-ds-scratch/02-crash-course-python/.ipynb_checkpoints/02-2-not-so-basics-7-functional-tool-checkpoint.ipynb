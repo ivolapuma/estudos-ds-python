{
 "cells": [
  {
   "cell_type": "code",
   "execution_count": null,
   "metadata": {},
   "outputs": [],
   "source": [
    "#\n",
    "# 2 A Crash Course in Python\n",
    "#\n",
    "# 2.2 The Not-So-Basics"
   ]
  },
  {
   "cell_type": "code",
   "execution_count": null,
   "metadata": {},
   "outputs": [],
   "source": [
    "#\n",
    "# Functional Tools\n",
    "#"
   ]
  },
  {
   "cell_type": "code",
   "execution_count": 1,
   "metadata": {},
   "outputs": [
    {
     "name": "stdout",
     "output_type": "stream",
     "text": [
      "8\n",
      "8\n",
      "True\n"
     ]
    }
   ],
   "source": [
    "# por exemplo...\n",
    "\n",
    "# ... uma funcao que calcula exponenciacao\n",
    "def exp(base, power):\n",
    "    return base ** power\n",
    "\n",
    "# ... e uma funcao que calcula a exponenciacao somente na base 2\n",
    "def two_to_the(power):\n",
    "    return exp(2, power)\n",
    "\n",
    "print(exp(2, 3))\n",
    "print(two_to_the(3))\n",
    "print(exp(2, 3) == two_to_the(3))"
   ]
  },
  {
   "cell_type": "code",
   "execution_count": 2,
   "metadata": {},
   "outputs": [
    {
     "name": "stdout",
     "output_type": "stream",
     "text": [
      "16\n"
     ]
    }
   ],
   "source": [
    "# tambem pode ser feito com 'functools.partial' assim...\n",
    "\n",
    "from functools import partial\n",
    "\n",
    "four_to_the = partial(exp, 4)\n",
    "print(four_to_the(2))"
   ]
  },
  {
   "cell_type": "code",
   "execution_count": 3,
   "metadata": {},
   "outputs": [
    {
     "name": "stdout",
     "output_type": "stream",
     "text": [
      "25\n"
     ]
    }
   ],
   "source": [
    "# ... outra forma de usar 'partial', predefinindo o valor do parametro pelo nome\n",
    "\n",
    "square_of = partial(exp, power=2)\n",
    "print(square_of(5))"
   ]
  },
  {
   "cell_type": "code",
   "execution_count": 19,
   "metadata": {},
   "outputs": [
    {
     "name": "stdout",
     "output_type": "stream",
     "text": [
      "[2, 4, 6, 8]\n",
      "<map object at 0x7fa97fff8ac0>\n",
      "[2, 4, 6, 8]\n",
      "<map object at 0x7fa97fff8f40>\n",
      "[2, 4, 6, 8]\n"
     ]
    }
   ],
   "source": [
    "# ... usando com map, reduce e filter\n",
    "\n",
    "def double(x):\n",
    "    return 2*x\n",
    "\n",
    "def mapToStr(m):\n",
    "    s = \"[\"\n",
    "    for x in m:\n",
    "        if s == \"[\":\n",
    "            s += str(x)\n",
    "        else:\n",
    "            s += \", \" + str(x)\n",
    "    s += \"]\"\n",
    "    return s\n",
    "\n",
    "xs = [1, 2, 3, 4]\n",
    "twice_xs = [double(x) for x in xs]\n",
    "print(twice_xs)\n",
    "\n",
    "# outra forma de fazer, com map\n",
    "twice_xs = map(double, xs)\n",
    "print(twice_xs)\n",
    "print(mapToStr(twice_xs))\n",
    "\n",
    "# uma funcao que dobra os valores de uma lista\n",
    "list_doubler = partial(map, double)\n",
    "twice_xs = list_doubler(xs)\n",
    "print(twice_xs)\n",
    "print(mapToStr(twice_xs))"
   ]
  },
  {
   "cell_type": "code",
   "execution_count": 20,
   "metadata": {},
   "outputs": [
    {
     "name": "stdout",
     "output_type": "stream",
     "text": [
      "<map object at 0x7fa99489b100>\n",
      "[2, 20, 0]\n"
     ]
    }
   ],
   "source": [
    "# map() pode ser usado com funcoes de multiplos parametros, basta informar multiplas listas, assim...\n",
    "\n",
    "def multiply(x, y):\n",
    "    return x * y\n",
    "\n",
    "products = map(multiply, [1, 4, 10], [2, 5, 0])\n",
    "print(products)\n",
    "print(mapToStr(products))"
   ]
  }
 ],
 "metadata": {
  "kernelspec": {
   "display_name": "Python 3",
   "language": "python",
   "name": "python3"
  },
  "language_info": {
   "codemirror_mode": {
    "name": "ipython",
    "version": 3
   },
   "file_extension": ".py",
   "mimetype": "text/x-python",
   "name": "python",
   "nbconvert_exporter": "python",
   "pygments_lexer": "ipython3",
   "version": "3.8.5"
  }
 },
 "nbformat": 4,
 "nbformat_minor": 4
}
