{
 "cells": [
  {
   "cell_type": "code",
   "execution_count": null,
   "metadata": {},
   "outputs": [],
   "source": [
    "#\n",
    "# 2 A Crash Course in Python\n",
    "#\n",
    "# 2.2 The Not-So-Basics"
   ]
  },
  {
   "cell_type": "code",
   "execution_count": null,
   "metadata": {},
   "outputs": [],
   "source": [
    "#\n",
    "# zip and Argument Unpacking\n",
    "#"
   ]
  },
  {
   "cell_type": "code",
   "execution_count": 2,
   "metadata": {},
   "outputs": [
    {
     "name": "stdout",
     "output_type": "stream",
     "text": [
      "['a', 'b', 'c']\n",
      "[1, 2, 3]\n",
      "<zip object at 0x7ff8c46a1dc0>\n",
      "('a', 1)\n",
      "('b', 2)\n",
      "('c', 3)\n"
     ]
    }
   ],
   "source": [
    "# funcao zip() pega duas ou mais listas e gera um nova lista em que cada elemento eh uma tuplas contendo \n",
    "# os elementos das listas em cada posicao\n",
    "\n",
    "list1 = ['a', 'b', 'c']\n",
    "print(list1)\n",
    "\n",
    "list2 = [1, 2, 3]\n",
    "print(list2)\n",
    "\n",
    "list3 = zip(list1, list2)\n",
    "print(list3)\n",
    "for v in list3:\n",
    "    print(v)"
   ]
  },
  {
   "cell_type": "code",
   "execution_count": 3,
   "metadata": {},
   "outputs": [
    {
     "name": "stdout",
     "output_type": "stream",
     "text": [
      "['a', 'b', 'c', 'd', 'e']\n",
      "[1, 2, 3, 4, 5, 6, 7, 8]\n",
      "['x', 'xx', 'xxx']\n",
      "<zip object at 0x7ff8c46a1dc0>\n",
      "('a', 1, 'x')\n",
      "('b', 2, 'xx')\n",
      "('c', 3, 'xxx')\n"
     ]
    }
   ],
   "source": [
    "# se as listas tem tamanhos diferentes, zip vai ate o tamanho da menor lista\n",
    "\n",
    "list1 = ['a', 'b', 'c', 'd', 'e']\n",
    "print(list1)\n",
    "\n",
    "list2 = [1, 2, 3, 4, 5, 6, 7, 8]\n",
    "print(list2)\n",
    "\n",
    "list3 = ['x', 'xx', 'xxx']\n",
    "print(list3)\n",
    "\n",
    "list4 = zip(list1, list2, list3)\n",
    "print(list4)\n",
    "for v in list4:\n",
    "    print(v)\n",
    "\n",
    "# como list3 vai ter o tamanho de list4"
   ]
  },
  {
   "cell_type": "code",
   "execution_count": 9,
   "metadata": {},
   "outputs": [
    {
     "name": "stdout",
     "output_type": "stream",
     "text": [
      "pares = [('a', 1), ('b', 2), ('c', 3)]\n",
      "*pares = ('a', 1) ('b', 2) ('c', 3)\n",
      "zip(*pares) = <zip object at 0x7ff8c46ace40>\n",
      "('a', 'b', 'c')\n",
      "(1, 2, 3)\n"
     ]
    }
   ],
   "source": [
    "# desempacotamento de parametros...\n",
    "\n",
    "pares = [('a', 1), ('b', 2), ('c', 3)]\n",
    "print(\"pares =\", pares)\n",
    "print(\"*pares =\", *pares)\n",
    "\n",
    "print(\"zip(*pares) =\", zip(*pares))\n",
    "letras, numeros = zip(*pares)\n",
    "print(letras)\n",
    "print(numeros)"
   ]
  },
  {
   "cell_type": "code",
   "execution_count": 13,
   "metadata": {},
   "outputs": [
    {
     "name": "stdout",
     "output_type": "stream",
     "text": [
      "3\n",
      "add([1, 2]) lanca TypeError: add() missing 1 required positional argument: 'b'\n",
      "3\n"
     ]
    }
   ],
   "source": [
    "# * desempacotamento de parametros pode ser usado em qualquer funcao\n",
    "\n",
    "def add(a, b):\n",
    "    return a + b\n",
    "\n",
    "print(add(1, 2))\n",
    "try:\n",
    "    print(add([1, 2]))\n",
    "except:\n",
    "    print(\"add([1, 2]) lanca TypeError: add() missing 1 required positional argument: 'b'\")\n",
    "print(add(*[1, 2]))"
   ]
  }
 ],
 "metadata": {
  "kernelspec": {
   "display_name": "Python 3",
   "language": "python",
   "name": "python3"
  },
  "language_info": {
   "codemirror_mode": {
    "name": "ipython",
    "version": 3
   },
   "file_extension": ".py",
   "mimetype": "text/x-python",
   "name": "python",
   "nbconvert_exporter": "python",
   "pygments_lexer": "ipython3",
   "version": "3.8.5"
  }
 },
 "nbformat": 4,
 "nbformat_minor": 4
}
