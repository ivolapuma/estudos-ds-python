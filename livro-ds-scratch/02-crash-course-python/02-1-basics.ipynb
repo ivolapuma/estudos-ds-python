{
 "cells": [
  {
   "cell_type": "code",
   "execution_count": null,
   "metadata": {},
   "outputs": [],
   "source": [
    "# 2 A Crash Course in Python\n",
    "\n",
    "# 2.1 The Basics"
   ]
  },
  {
   "cell_type": "code",
   "execution_count": 1,
   "metadata": {},
   "outputs": [
    {
     "name": "stdout",
     "output_type": "stream",
     "text": [
      "The Zen of Python, by Tim Peters\n",
      "\n",
      "Beautiful is better than ugly.\n",
      "Explicit is better than implicit.\n",
      "Simple is better than complex.\n",
      "Complex is better than complicated.\n",
      "Flat is better than nested.\n",
      "Sparse is better than dense.\n",
      "Readability counts.\n",
      "Special cases aren't special enough to break the rules.\n",
      "Although practicality beats purity.\n",
      "Errors should never pass silently.\n",
      "Unless explicitly silenced.\n",
      "In the face of ambiguity, refuse the temptation to guess.\n",
      "There should be one-- and preferably only one --obvious way to do it.\n",
      "Although that way may not be obvious at first unless you're Dutch.\n",
      "Now is better than never.\n",
      "Although never is often better than *right* now.\n",
      "If the implementation is hard to explain, it's a bad idea.\n",
      "If the implementation is easy to explain, it may be a good idea.\n",
      "Namespaces are one honking great idea -- let's do more of those!\n"
     ]
    }
   ],
   "source": [
    "import this"
   ]
  },
  {
   "cell_type": "code",
   "execution_count": null,
   "metadata": {},
   "outputs": [],
   "source": [
    "#\n",
    "# Whitespace formatting\n",
    "#"
   ]
  },
  {
   "cell_type": "code",
   "execution_count": 2,
   "metadata": {},
   "outputs": [
    {
     "name": "stdout",
     "output_type": "stream",
     "text": [
      "1\n",
      "1\n",
      "2\n",
      "2\n",
      "3\n",
      "3\n",
      "4\n",
      "4\n",
      "5\n",
      "5\n",
      "6\n",
      "1\n",
      "2\n",
      "1\n",
      "3\n",
      "2\n",
      "4\n",
      "3\n",
      "5\n",
      "4\n",
      "6\n",
      "5\n",
      "7\n",
      "2\n",
      "3\n",
      "1\n",
      "4\n",
      "2\n",
      "5\n",
      "3\n",
      "6\n",
      "4\n",
      "7\n",
      "5\n",
      "8\n",
      "3\n",
      "4\n",
      "1\n",
      "5\n",
      "2\n",
      "6\n",
      "3\n",
      "7\n",
      "4\n",
      "8\n",
      "5\n",
      "9\n",
      "4\n",
      "5\n",
      "1\n",
      "6\n",
      "2\n",
      "7\n",
      "3\n",
      "8\n",
      "4\n",
      "9\n",
      "5\n",
      "10\n",
      "5\n",
      "looping done\n"
     ]
    }
   ],
   "source": [
    "# Diferentemente de outras linguagens, Python nao usa {} para delimitar blocos de codigo. Python usa indentacao\n",
    "for i in [1, 2, 3, 4, 5]:\n",
    "    print(i)\n",
    "    for j in [1, 2, 3, 4, 5]:\n",
    "        print(j)\n",
    "        print(i + j)\n",
    "    print(i)\n",
    "print(\"looping done\")"
   ]
  },
  {
   "cell_type": "code",
   "execution_count": 5,
   "metadata": {},
   "outputs": [
    {
     "name": "stdout",
     "output_type": "stream",
     "text": [
      "210\n",
      "[[1, 2, 3], [4, 5, 6], [7, 8, 9]]\n",
      "[[1, 2, 3], [4, 5, 6], [7, 8, 9]]\n"
     ]
    }
   ],
   "source": [
    "# Espacos em branco sao ignorados dentro de parenteses () e colchetes []\n",
    "\n",
    "long_winded_computation = (1 + 2 + 3 + 4 + 5 + 6 + 7 + 8 +\n",
    "                          9 + 10 + 11 + 12 + 13 + 14 + 15 + \n",
    "                          16 + 17 + 18 + 19 + 20)\n",
    "\n",
    "print(long_winded_computation)\n",
    "\n",
    "list_of_lists = [[1, 2, 3], [4, 5, 6], [7, 8, 9]]\n",
    "\n",
    "print(list_of_lists)\n",
    "\n",
    "easer_to_read_list_of_lists = [ [1, 2, 3], \n",
    "                                [4, 5, 6],\n",
    "                                [7, 8, 9] ]\n",
    "\n",
    "print(easer_to_read_list_of_lists)"
   ]
  },
  {
   "cell_type": "code",
   "execution_count": 6,
   "metadata": {},
   "outputs": [
    {
     "name": "stdout",
     "output_type": "stream",
     "text": [
      "5\n"
     ]
    }
   ],
   "source": [
    "# uma \\ pode ser usada para indicar quebra de linha, mas eh opcional\n",
    "two_plus_three = 2 + \\\n",
    "                 3\n",
    "\n",
    "print(two_plus_three)"
   ]
  },
  {
   "cell_type": "code",
   "execution_count": null,
   "metadata": {},
   "outputs": [],
   "source": [
    "#\n",
    "# Modules\n",
    "#"
   ]
  },
  {
   "cell_type": "code",
   "execution_count": 9,
   "metadata": {},
   "outputs": [
    {
     "name": "stdout",
     "output_type": "stream",
     "text": [
      "RegexFlag.IGNORECASE\n",
      "re.compile('[0-9]+', re.IGNORECASE)\n"
     ]
    }
   ],
   "source": [
    "# Existem recursos (modulos) que nao sao carregados por padrao no Python. Sendo recursos base da linguagem\n",
    "# ou recursos baixados e fornecidos por terceiros.\n",
    "# Para usar esses modulos, eles devem ser importados com comando 'import'\n",
    "\n",
    "import re  # modulo para expressoes regulares (regex)\n",
    "\n",
    "print(re.I)\n",
    "\n",
    "my_regex = re.compile(\"[0-9]+\", re.I)\n",
    "\n",
    "print(my_regex)"
   ]
  },
  {
   "cell_type": "code",
   "execution_count": 11,
   "metadata": {},
   "outputs": [
    {
     "name": "stdout",
     "output_type": "stream",
     "text": [
      "RegexFlag.IGNORECASE\n",
      "re.compile('[0-9]+', re.IGNORECASE)\n"
     ]
    }
   ],
   "source": [
    "# Pode-se usar alias para usar os modulos importados\n",
    "\n",
    "import re as regex  # o que vem depois de 'as' eh o alias para o modulo importado\n",
    "\n",
    "print(regex.I)\n",
    "\n",
    "my_regex = regex.compile(\"[0-9]+\", regex.I)\n",
    "\n",
    "print(my_regex)\n",
    "\n",
    "import matplotlib.pyplot as plt"
   ]
  },
  {
   "cell_type": "code",
   "execution_count": 13,
   "metadata": {},
   "outputs": [
    {
     "name": "stdout",
     "output_type": "stream",
     "text": [
      "defaultdict(None, {})\n",
      "Counter()\n"
     ]
    }
   ],
   "source": [
    "# Para usar recursos especificos de um modulo, pode-se importar explicitamente cada recurso\n",
    "\n",
    "from collections import defaultdict, Counter\n",
    "lookup = defaultdict()\n",
    "my_counter = Counter()\n",
    "\n",
    "print(lookup)\n",
    "print(my_counter)"
   ]
  },
  {
   "cell_type": "code",
   "execution_count": 14,
   "metadata": {},
   "outputs": [
    {
     "name": "stdout",
     "output_type": "stream",
     "text": [
      "10\n",
      "<function match at 0x7f11f0992280>\n"
     ]
    }
   ],
   "source": [
    "# Tambem pode-se importar todos os recursos de modo implicito, \n",
    "# mas nao eh recomendado, pois se houver alguma variavel com mesmo nome\n",
    "# sera sobrescrita\n",
    "\n",
    "match = 10\n",
    "print(match)\n",
    "\n",
    "from re import *  # modulo 're' tem uma funcao 'match'\n",
    "print(match)"
   ]
  },
  {
   "cell_type": "code",
   "execution_count": null,
   "metadata": {},
   "outputs": [],
   "source": [
    "#\n",
    "# Arithmetic\n",
    "#"
   ]
  },
  {
   "cell_type": "code",
   "execution_count": 20,
   "metadata": {},
   "outputs": [
    {
     "name": "stdout",
     "output_type": "stream",
     "text": [
      "No Python 3...\n",
      "5 / 2 = 2.5 (operador de divisao convencional)\n",
      "5 // 2 = 2 (operador de divisao que retorna inteiro)\n",
      "5 % 2 = 1 (operador de divisao que retorna o resto da parte inteira)\n"
     ]
    }
   ],
   "source": [
    "# No Python 2, o operador de divisao retornava um inteiro:\n",
    "#\n",
    "# 5 / 2 retorna 2\n",
    "#\n",
    "# Para resolver, antes tinha que fazer o seguinte import:\n",
    "#\n",
    "# from __future__ import division\n",
    "#\n",
    "# e entao 5 / 2 retorna 2.5\n",
    "#\n",
    "print(\"No Python 3...\")\n",
    "print(\"5 / 2 =\", 5/2, \"(operador de divisao convencional)\")\n",
    "print(\"5 // 2 =\", 5//2, \"(operador de divisao que retorna inteiro)\")\n",
    "print(\"5 % 2 =\", 5%2, \"(operador de divisao que retorna o resto da parte inteira)\")"
   ]
  },
  {
   "cell_type": "code",
   "execution_count": null,
   "metadata": {},
   "outputs": [],
   "source": [
    "#\n",
    "# Functions\n",
    "#"
   ]
  },
  {
   "cell_type": "code",
   "execution_count": 23,
   "metadata": {},
   "outputs": [
    {
     "name": "stdout",
     "output_type": "stream",
     "text": [
      "x=2, logo double(x) = 4\n"
     ]
    }
   ],
   "source": [
    "def double(x):\n",
    "    '''Aqui vai um texto opcional para descricao do que a funcao faz.\n",
    "    P. ex., essa funcao recebe x e retorna o seu valor multiplicado por 2.'''\n",
    "    return x * 2\n",
    "\n",
    "x = 2\n",
    "print(\"x=2, logo double(x) =\", double(x))"
   ]
  },
  {
   "cell_type": "code",
   "execution_count": 24,
   "metadata": {},
   "outputs": [
    {
     "name": "stdout",
     "output_type": "stream",
     "text": [
      "<function double at 0x7f1191068040>\n",
      "2\n"
     ]
    }
   ],
   "source": [
    "# Em Python, as funcoes sao 'first-class', o que significa que pode-se atribuir uma funcao a uma\n",
    "# variavel e passa-la como parametro em outra funcao (callback)\n",
    "\n",
    "def apply_to_one(f):\n",
    "    '''chama a funcao f passando o parametro 1'''\n",
    "    return f(1)\n",
    "\n",
    "my_double = double\n",
    "print(my_double)\n",
    "\n",
    "x = apply_to_one(my_double)\n",
    "print(x)"
   ]
  },
  {
   "cell_type": "code",
   "execution_count": 25,
   "metadata": {},
   "outputs": [
    {
     "name": "stdout",
     "output_type": "stream",
     "text": [
      "5\n"
     ]
    }
   ],
   "source": [
    "# Definicao de lambdas (funcoes anonimas curtas)\n",
    "\n",
    "y = apply_to_one(lambda x: x+4)\n",
    "print(y)"
   ]
  },
  {
   "cell_type": "code",
   "execution_count": 28,
   "metadata": {},
   "outputs": [
    {
     "name": "stdout",
     "output_type": "stream",
     "text": [
      "4\n",
      "4\n"
     ]
    }
   ],
   "source": [
    "# Pode-se atribuir um lambda a uma variavel, mas isso nao eh recomendado\n",
    "\n",
    "another_double = lambda x: x*2  # isso pode mas nao eh recomendado\n",
    "print(another_double(2))\n",
    "\n",
    "def another_double(x): return x * 2  # usar 'def' eh o recomendado\n",
    "print(another_double(2))"
   ]
  },
  {
   "cell_type": "code",
   "execution_count": 29,
   "metadata": {},
   "outputs": [
    {
     "name": "stdout",
     "output_type": "stream",
     "text": [
      "hello\n",
      "my default message\n"
     ]
    }
   ],
   "source": [
    "# Parametros podem receber um valor padrao e passar um valor diferente somente quando for necessario\n",
    "\n",
    "def my_print(message=\"my default message\"):\n",
    "    print(message)\n",
    "    \n",
    "my_print(\"hello\")\n",
    "my_print()  # deve imprimir o valor padrao definido no parametro"
   ]
  },
  {
   "cell_type": "code",
   "execution_count": 30,
   "metadata": {},
   "outputs": [
    {
     "name": "stdout",
     "output_type": "stream",
     "text": [
      "subtract(10, 5) = 5\n",
      "subtract(0, 5) = -5\n",
      "subtract() = 0\n",
      "subtract(b=5) = -5\n"
     ]
    }
   ],
   "source": [
    "# Algumas vezes eh interessante chamar uma funcao especificando os parametro pelo nome...\n",
    "\n",
    "def subtract(a=0, b=0):\n",
    "    return a - b\n",
    "\n",
    "print(\"subtract(10, 5) =\", subtract(10, 5))\n",
    "print(\"subtract(0, 5) =\", subtract(0, 5))\n",
    "print(\"subtract() =\", subtract())  # deve usar os valores padrao para os parametro e retornar 0\n",
    "print(\"subtract(b=5) =\", subtract(b=5))  # parametro a deve assumir o valor padrao e retornar -5"
   ]
  },
  {
   "cell_type": "code",
   "execution_count": null,
   "metadata": {},
   "outputs": [],
   "source": [
    "#\n",
    "# Strings\n",
    "#"
   ]
  },
  {
   "cell_type": "code",
   "execution_count": null,
   "metadata": {},
   "outputs": [],
   "source": [
    "# Strings podem ser delimitadas por aspas simples '' ou duplas \"\"\n",
    "\n",
    "single_quoted_string = 'data science'\n",
    "double_quoted_string = \"data science\""
   ]
  },
  {
   "cell_type": "code",
   "execution_count": 34,
   "metadata": {},
   "outputs": [
    {
     "name": "stdout",
     "output_type": "stream",
     "text": [
      "1\n",
      "tab_string = \t\n",
      "is_tab(tab_string) = True\n"
     ]
    }
   ],
   "source": [
    "# Barra invertida \\ sao usadas para referenciar caracteres especiais\n",
    "\n",
    "def is_tab(s):\n",
    "    '''Retorna True se o parametro for um caracter tab'''\n",
    "    return s == \"\\t\"\n",
    "\n",
    "tab_string = \"\\t\"\n",
    "print(len(tab_string))\n",
    "print(\"tab_string =\", tab_string)\n",
    "print(\"is_tab(tab_string) =\", is_tab(tab_string))"
   ]
  },
  {
   "cell_type": "code",
   "execution_count": 35,
   "metadata": {},
   "outputs": [
    {
     "name": "stdout",
     "output_type": "stream",
     "text": [
      "2\n",
      "not_tab_string = \\t\n",
      "is_tab(not_tab_string) = False\n"
     ]
    }
   ],
   "source": [
    "# Para que as barras invertidas sejam consideradas na string, pode-se criar \n",
    "# uma string 'pura' (de 'raw string')\n",
    "\n",
    "not_tab_string = r\"\\t\"\n",
    "print(len(not_tab_string))\n",
    "print(\"not_tab_string =\", not_tab_string)\n",
    "print(\"is_tab(not_tab_string) =\", is_tab(not_tab_string))"
   ]
  },
  {
   "cell_type": "code",
   "execution_count": 36,
   "metadata": {},
   "outputs": [
    {
     "name": "stdout",
     "output_type": "stream",
     "text": [
      "This is the first line.\n",
      "And this is the second line.\n",
      "And this is the third line.\n"
     ]
    }
   ],
   "source": [
    "# Strings multilinhas podem ser criadas com aspas triplas '''''' ou \"\"\"\"\"\"\n",
    "\n",
    "multi_line_string = \"\"\"This is the first line.\n",
    "And this is the second line.\n",
    "And this is the third line.\"\"\"\n",
    "\n",
    "print(multi_line_string)"
   ]
  },
  {
   "cell_type": "code",
   "execution_count": null,
   "metadata": {},
   "outputs": [],
   "source": [
    "#\n",
    "# Exceptions\n",
    "#"
   ]
  },
  {
   "cell_type": "code",
   "execution_count": 37,
   "metadata": {},
   "outputs": [
    {
     "ename": "ZeroDivisionError",
     "evalue": "division by zero",
     "output_type": "error",
     "traceback": [
      "\u001b[0;31m---------------------------------------------------------------------------\u001b[0m",
      "\u001b[0;31mZeroDivisionError\u001b[0m                         Traceback (most recent call last)",
      "\u001b[0;32m<ipython-input-37-85cd70984215>\u001b[0m in \u001b[0;36m<module>\u001b[0;34m\u001b[0m\n\u001b[1;32m      1\u001b[0m \u001b[0;31m# Tratamento de excecoes no Python\u001b[0m\u001b[0;34m\u001b[0m\u001b[0;34m\u001b[0m\u001b[0;34m\u001b[0m\u001b[0m\n\u001b[1;32m      2\u001b[0m \u001b[0;34m\u001b[0m\u001b[0m\n\u001b[0;32m----> 3\u001b[0;31m \u001b[0mprint\u001b[0m\u001b[0;34m(\u001b[0m\u001b[0;36m0\u001b[0m\u001b[0;34m/\u001b[0m\u001b[0;36m0\u001b[0m\u001b[0;34m)\u001b[0m\u001b[0;34m\u001b[0m\u001b[0;34m\u001b[0m\u001b[0m\n\u001b[0m",
      "\u001b[0;31mZeroDivisionError\u001b[0m: division by zero"
     ]
    }
   ],
   "source": [
    "# Tratamento de excecoes no Python\n",
    "\n",
    "print(0/0)"
   ]
  },
  {
   "cell_type": "code",
   "execution_count": 39,
   "metadata": {},
   "outputs": [
    {
     "name": "stdout",
     "output_type": "stream",
     "text": [
      "cannot divide by zero\n"
     ]
    }
   ],
   "source": [
    "# Especificando o erro...\n",
    "\n",
    "try:\n",
    "    print(0/0)\n",
    "except ZeroDivisionError:\n",
    "    print(\"cannot divide by zero\")"
   ]
  },
  {
   "cell_type": "code",
   "execution_count": 41,
   "metadata": {},
   "outputs": [
    {
     "name": "stdout",
     "output_type": "stream",
     "text": [
      "error\n"
     ]
    }
   ],
   "source": [
    "# ... ou erro generico\n",
    "\n",
    "try:\n",
    "    print(0/0)\n",
    "except:\n",
    "    print(\"error\")"
   ]
  },
  {
   "cell_type": "code",
   "execution_count": null,
   "metadata": {},
   "outputs": [],
   "source": [
    "#\n",
    "# Lists\n",
    "#"
   ]
  },
  {
   "cell_type": "code",
   "execution_count": 43,
   "metadata": {},
   "outputs": [
    {
     "name": "stdout",
     "output_type": "stream",
     "text": [
      "[1, 2, 3]\n",
      "['string', 0.1, True]\n",
      "[[1, 2, 3], ['string', 0.1, True], []]\n",
      "length of integer_list 3\n",
      "sum of integer_list 6\n"
     ]
    }
   ],
   "source": [
    "# A mais fundamental estrutura de dados em Python.\n",
    "\n",
    "# Uma lista em Python é similar ao que em outras linguagens são \n",
    "# chamadas de 'arrays', porém com algumas funcionalidades adicionadas.\n",
    "\n",
    "integer_list = [1, 2, 3]\n",
    "heterogeneus_list = [\"string\", 0.1, True]\n",
    "list_of_lists = [integer_list, heterogeneus_list, []]\n",
    "\n",
    "print(integer_list)\n",
    "print(heterogeneus_list)\n",
    "print(list_of_lists)\n",
    "\n",
    "list_length = len(integer_list)\n",
    "list_sum = sum(integer_list)\n",
    "\n",
    "print(\"length of integer_list\", list_length)\n",
    "print(\"sum of integer_list\", list_sum)"
   ]
  },
  {
   "cell_type": "code",
   "execution_count": 50,
   "metadata": {},
   "outputs": [
    {
     "name": "stdout",
     "output_type": "stream",
     "text": [
      "[0, 1, 2, 3, 4, 5, 6, 7, 8, 9]\n",
      "zero = 0\n",
      "one = 1\n",
      "nine = 9\n",
      "eigth = 8\n",
      "[-1, 1, 2, 3, 4, 5, 6, 7, 8, 9]\n"
     ]
    }
   ],
   "source": [
    "# Manipulando elementos de uma lista\n",
    "\n",
    "x = [0, 1, 2, 3, 4, 5, 6, 7, 8, 9]\n",
    "print(x)\n",
    "\n",
    "# primeiro elemento da lista (sempre indice 0)\n",
    "zero = x[0]  \n",
    "print(\"zero =\", zero)\n",
    "\n",
    "# segudo elemento da lista (consequentemente, indice 1)\n",
    "one = x[1]\n",
    "print(\"one =\", one)\n",
    "\n",
    "# com numeros negativos (modo 'Pythonico'), pode-se acessar os elementos a partir do último (indice -1)\n",
    "nine = x[-1]\n",
    "print(\"nine =\", nine)\n",
    "\n",
    "# logo, o penuntimo pode ser acessado assim...\n",
    "eight = x[-2]\n",
    "print(\"eigth =\", eight)\n",
    "\n",
    "# e assim, pode-se alterar qualquer elemento de uma lista desta forma:\n",
    "x[0] = -1\n",
    "print(x)"
   ]
  },
  {
   "cell_type": "code",
   "execution_count": 55,
   "metadata": {},
   "outputs": [
    {
     "name": "stdout",
     "output_type": "stream",
     "text": [
      "[0, 1, 2, 3, 4, 5, 6, 7, 8, 9]\n",
      "[0, 1, 2]\n",
      "[3, 4, 5, 6, 7, 8, 9]\n",
      "[1, 2, 3, 4]\n",
      "[7, 8, 9]\n",
      "[1, 2, 3, 4, 5, 6, 7, 8]\n"
     ]
    }
   ],
   "source": [
    "# Listas tambem podem ser manipuladas em partes...\n",
    "\n",
    "x = [0, 1, 2, 3, 4, 5, 6, 7, 8, 9]\n",
    "print(x)\n",
    "\n",
    "# para obter uma lista que eh a parte inicial de outra lista\n",
    "# ex. do elemento 0 ao 2\n",
    "first_three = x[:3]\n",
    "print(first_three)\n",
    "\n",
    "# para obter uma lista que eh a partir de um elemento ate o final de outra lista\n",
    "# ex. do elemento 3 ate -1 (o ultimo em Python)\n",
    "three_to_end = x[3:]\n",
    "print(three_to_end)\n",
    "\n",
    "# para obter uma lista que eh uma parte intermediaria de outra lista\n",
    "# ex. do elemento 1 ao 4\n",
    "one_to_four = x[1:5]\n",
    "print(one_to_four)\n",
    "\n",
    "# para obter a parte final\n",
    "# ex. do elemento -3 ao -1 (o ultimo no Python)\n",
    "last_three = x[-3:]\n",
    "print(last_three)\n",
    "\n",
    "# outra forma de obter uma lista que eh uma parte intermediaria de outra lista\n",
    "# ex. do elemento 1 ao -2\n",
    "without_first_and_last = x[1:-1]\n",
    "print(without_first_and_last)\n"
   ]
  },
  {
   "cell_type": "code",
   "execution_count": 56,
   "metadata": {},
   "outputs": [
    {
     "name": "stdout",
     "output_type": "stream",
     "text": [
      "[1, 2, 3]\n",
      "1 esta na lista? True\n",
      "0 esta na lista? False\n"
     ]
    }
   ],
   "source": [
    "# Operador 'in' para verificar se um elemento esta numa lista\n",
    "\n",
    "lista = [1, 2, 3]\n",
    "print(lista)\n",
    "print(\"1 esta na lista?\", 1 in lista)\n",
    "print(\"0 esta na lista?\", 0 in lista)\n",
    "\n",
    "# ATENCAO: a verificacao ocorre elemento a elemento, ou seja,\n",
    "# se a lista for muito grande, ha impacto no tempo de execucao !!!"
   ]
  },
  {
   "cell_type": "code",
   "execution_count": 59,
   "metadata": {},
   "outputs": [
    {
     "name": "stdout",
     "output_type": "stream",
     "text": [
      "x antes = [1, 2, 3]\n",
      "x depois = [1, 2, 3, 4, 5, 6]\n",
      "x antes = [1, 2, 3]\n",
      "x depois = [1, 2, 3]\n",
      "y = [1, 2, 3, 4, 5, 6]\n"
     ]
    }
   ],
   "source": [
    "# Concatenando listas\n",
    "\n",
    "x = [1, 2, 3]\n",
    "print(\"x antes =\", x)\n",
    "\n",
    "x.extend([4, 5, 6])\n",
    "print(\"x depois =\", x)\n",
    "\n",
    "# ou dessa forma, sem modificar x\n",
    "x = [1, 2, 3]\n",
    "print(\"x antes =\", x)\n",
    "\n",
    "y = x + [4, 5, 6]\n",
    "print(\"x depois =\", x)\n",
    "print(\"y =\", y)"
   ]
  },
  {
   "cell_type": "code",
   "execution_count": 60,
   "metadata": {},
   "outputs": [
    {
     "name": "stdout",
     "output_type": "stream",
     "text": [
      "x antes = [1, 2, 3]\n",
      "x depois = [1, 2, 3, 0]\n",
      "ultimo elemento de x = 0\n",
      "tamanho de x = 4\n"
     ]
    }
   ],
   "source": [
    "# Adicionando elementos a uma lista\n",
    "\n",
    "x = [1, 2, 3]\n",
    "print(\"x antes =\", x)\n",
    "\n",
    "x.append(0)\n",
    "print(\"x depois =\", x)\n",
    "\n",
    "ultimo_em_x = x[-1]\n",
    "print(\"ultimo elemento de x =\", ultimo_em_x)\n",
    "\n",
    "tamanho_de_x = len(x)\n",
    "print(\"tamanho de x =\", tamanho_de_x)"
   ]
  },
  {
   "cell_type": "code",
   "execution_count": 68,
   "metadata": {},
   "outputs": [
    {
     "name": "stdout",
     "output_type": "stream",
     "text": [
      "x = 1\n",
      "y = 2\n",
      "0 1 2 3 4\n",
      "lista contem mais de dois elementos, impossivel 'desempacotar'\n",
      "1o elemento ignorado, y = 20\n",
      "os 2 primeiros elementos ignorados, c = 2\n",
      "o 1o e o ultimo elementos ignorados, b = 1\n"
     ]
    }
   ],
   "source": [
    "# 'Desempacotando' listas\n",
    "\n",
    "# Se sabemos o tamanho de uma lista, podemos fazer isso...\n",
    "x, y = [1, 2]\n",
    "print(\"x =\", x)\n",
    "print(\"y =\", y)\n",
    "\n",
    "# outro exemplo...\n",
    "lista = [0, 1, 2, 3, 4]\n",
    "a, b, c, d, e = lista\n",
    "print(a, b, c, d, e)\n",
    "\n",
    "# porem, se o numero de elementos nao for o correto, vai lancar erro (por isso vamos tratar)...\n",
    "try:\n",
    "    x, y = [1, 2, 3]\n",
    "except ValueError:\n",
    "    print(\"lista contem mais de dois elementos, impossivel 'desempacotar'\")\n",
    "    \n",
    "# pode-se ignorar elementos ao 'desempacotar' com underscore (_)\n",
    "_, y = [10, 20]\n",
    "print(\"1o elemento ignorado, y =\", y)\n",
    "_, _, c = [0, 1, 2]\n",
    "print(\"os 2 primeiros elementos ignorados, c =\", c)\n",
    "_, b, _ = [0, 1, 2]\n",
    "print(\"o 1o e o ultimo elementos ignorados, b =\", b)\n"
   ]
  },
  {
   "cell_type": "code",
   "execution_count": null,
   "metadata": {},
   "outputs": [],
   "source": [
    "#\n",
    "# Tuples\n",
    "#"
   ]
  },
  {
   "cell_type": "code",
   "execution_count": 71,
   "metadata": {},
   "outputs": [
    {
     "name": "stdout",
     "output_type": "stream",
     "text": [
      "uma_lista = [1, 2] <class 'list'>\n",
      "uma_tupla = (1, 2) <class 'tuple'>\n",
      "outra_tupla = (3, 4) <class 'tuple'>\n",
      "uma_lista = [1, 3]\n",
      "nao eh possivel modificar uma tupla\n"
     ]
    }
   ],
   "source": [
    "# As tuplas sao as primas imutaveis das listas.\n",
    "# Tudo que se faz com as listas, a nao ser modifica-la, pode-se fazer com as tuplas\n",
    "# Tuplas sao definidas usando parenteses, em vez de colchetes\n",
    "\n",
    "uma_lista = [1, 2]\n",
    "print(\"uma_lista =\", uma_lista, type(uma_lista))\n",
    "\n",
    "uma_tupla = (1, 2)\n",
    "print(\"uma_tupla =\", uma_tupla, type(uma_tupla))\n",
    "\n",
    "outra_tupla = 3, 4  # parenteses sao opcionais\n",
    "print(\"outra_tupla =\", outra_tupla, type(outra_tupla))\n",
    "\n",
    "uma_lista[1] = 3  # agora uma_lista eh [1, 3]\n",
    "print(\"uma_lista =\", uma_lista)\n",
    "\n",
    "try:\n",
    "    uma_tupla[1] = 3\n",
    "except TypeError:\n",
    "    print(\"nao eh possivel modificar uma tupla\")"
   ]
  },
  {
   "cell_type": "code",
   "execution_count": 73,
   "metadata": {},
   "outputs": [
    {
     "name": "stdout",
     "output_type": "stream",
     "text": [
      "sp = (5, 6) sp[0] = 5 sp[1] = 6\n",
      "s = 5 p = 6\n"
     ]
    }
   ],
   "source": [
    "# funcoes podem retornar uma tupla\n",
    "\n",
    "def sum_and_product(x, y):\n",
    "    return (x + y), (x * y)\n",
    "\n",
    "sp = sum_and_product(2, 3)\n",
    "print(\"sp =\", sp, \"sp[0] =\", sp[0], \"sp[1] =\", sp[1])\n",
    "\n",
    "s, p = sum_and_product(2, 3)\n",
    "print(\"s =\", s, \"p =\", p)"
   ]
  },
  {
   "cell_type": "code",
   "execution_count": 74,
   "metadata": {},
   "outputs": [
    {
     "name": "stdout",
     "output_type": "stream",
     "text": [
      "x = 1 y = 2\n",
      "x = 2 y = 1\n"
     ]
    }
   ],
   "source": [
    "# pode-se fazer multiplas definicoes com tuplas...\n",
    "\n",
    "x, y = 1, 2\n",
    "print(\"x =\", x, \"y =\", y)\n",
    "\n",
    "x, y = y, x\n",
    "print(\"x =\", x, \"y =\", y)"
   ]
  },
  {
   "cell_type": "code",
   "execution_count": null,
   "metadata": {},
   "outputs": [],
   "source": [
    "#\n",
    "# Dictionaries\n",
    "#"
   ]
  },
  {
   "cell_type": "code",
   "execution_count": 75,
   "metadata": {},
   "outputs": [
    {
     "name": "stdout",
     "output_type": "stream",
     "text": [
      "empty_dict = {} <class 'dict'>\n",
      "grades = {'Joel': 80, 'Tim': 95} <class 'dict'>\n"
     ]
    }
   ],
   "source": [
    "# dicionarios sao estruturas que associam valores com chaves (como os mapas)\n",
    "\n",
    "empty_dict = {}  # forma Pythonica (usando {})\n",
    "empty_dict_2 = dict()  # menos Pythonico\n",
    "grades = {\n",
    "    \"Joel\": 80,\n",
    "    \"Tim\": 95\n",
    "}\n",
    "\n",
    "print(\"empty_dict =\", empty_dict, type(empty_dict))\n",
    "print(\"grades =\", grades, type(grades))"
   ]
  },
  {
   "cell_type": "code",
   "execution_count": 76,
   "metadata": {},
   "outputs": [
    {
     "name": "stdout",
     "output_type": "stream",
     "text": [
      "joels_grade = 80\n"
     ]
    }
   ],
   "source": [
    "# pode-se acessar o valor para uma chave usando colchetes...\n",
    "\n",
    "print(\"joels_grade =\", grades[\"Joel\"])"
   ]
  },
  {
   "cell_type": "code",
   "execution_count": 77,
   "metadata": {},
   "outputs": [
    {
     "name": "stdout",
     "output_type": "stream",
     "text": [
      "nao ha nota para a Kate!\n"
     ]
    }
   ],
   "source": [
    "# tentar acessar o valor de uma chave inexistente no dicionario retorna erro...\n",
    "\n",
    "try:\n",
    "    print(\"kates_grade =\", grades[\"Kate\"])\n",
    "except KeyError:\n",
    "    print(\"nao ha nota para a Kate!\")"
   ]
  },
  {
   "cell_type": "code",
   "execution_count": 78,
   "metadata": {},
   "outputs": [
    {
     "name": "stdout",
     "output_type": "stream",
     "text": [
      "Joel tem nota? True\n",
      "Kate tem nota? False\n"
     ]
    }
   ],
   "source": [
    "# pode-se verificar se existe uma chave num dicionario assim...\n",
    "\n",
    "print(\"Joel tem nota?\", \"Joel\" in grades)\n",
    "print(\"Kate tem nota?\", \"Kate\" in grades)"
   ]
  },
  {
   "cell_type": "code",
   "execution_count": 79,
   "metadata": {},
   "outputs": [
    {
     "name": "stdout",
     "output_type": "stream",
     "text": [
      "nota do Joel = 80\n",
      "nota da Kate = 0\n",
      "nota de ninguem = None\n"
     ]
    }
   ],
   "source": [
    "# dicionarios tem o metodo get() que retorna um valor padrao, em vez de lancar excecao, quando nao ha uma chave...\n",
    "\n",
    "print(\"nota do Joel =\", grades.get(\"Joel\", 0))\n",
    "print(\"nota da Kate =\", grades.get(\"Kate\", 0))\n",
    "print(\"nota de ninguem =\", grades.get(\"ninguem\"))  # quando nao especificado, o valor default eh None"
   ]
  },
  {
   "cell_type": "code",
   "execution_count": 80,
   "metadata": {},
   "outputs": [
    {
     "name": "stdout",
     "output_type": "stream",
     "text": [
      "grades = {'Joel': 80, 'Tim': 95} num. students = 2\n",
      "grades = {'Joel': 80, 'Tim': 99, 'Kate': 100} num. students = 3\n"
     ]
    }
   ],
   "source": [
    "# modifica-se pares chave-valor tambem usando colchetes...\n",
    "\n",
    "print(\"grades =\", grades, \"num. students =\", len(grades))\n",
    "\n",
    "grades[\"Tim\"] = 99  # alterou o valor (nota) da chave \"Tim\"\n",
    "grades[\"Kate\"] = 100  # incluiu um novo par chave-valor (nota da Kate)\n",
    "\n",
    "print(\"grades =\", grades, \"num. students =\", len(grades))"
   ]
  },
  {
   "cell_type": "code",
   "execution_count": 81,
   "metadata": {},
   "outputs": [
    {
     "name": "stdout",
     "output_type": "stream",
     "text": [
      "{'user': 'joelgrus', 'text': 'Data Science is awesome!', 'retweet_count': 100, 'hashtags': ['#data', '#science', '#datascience', '#awesome', '#yolo']}\n"
     ]
    }
   ],
   "source": [
    "# dicionarios sao usado para representar de uma forma simples dados estruturados...\n",
    "\n",
    "tweet = {\n",
    "    \"user\": \"joelgrus\",\n",
    "    \"text\": \"Data Science is awesome!\",\n",
    "    \"retweet_count\": 100,\n",
    "    \"hashtags\": [\"#data\", \"#science\", \"#datascience\", \"#awesome\", \"#yolo\"]\n",
    "}\n",
    "\n",
    "print(tweet)"
   ]
  },
  {
   "cell_type": "code",
   "execution_count": 84,
   "metadata": {},
   "outputs": [
    {
     "name": "stdout",
     "output_type": "stream",
     "text": [
      "tweet keys: <class 'dict_keys'> dict_keys(['user', 'text', 'retweet_count', 'hashtags'])\n",
      "tweet values: <class 'dict_values'> dict_values(['joelgrus', 'Data Science is awesome!', 100, ['#data', '#science', '#datascience', '#awesome', '#yolo']])\n",
      "tweet items: <class 'dict_items'> dict_items([('user', 'joelgrus'), ('text', 'Data Science is awesome!'), ('retweet_count', 100), ('hashtags', ['#data', '#science', '#datascience', '#awesome', '#yolo'])])\n",
      "True\n",
      "True\n",
      "True\n"
     ]
    }
   ],
   "source": [
    "# outras formas de obter as chaves e os valores de um dicionario...\n",
    "\n",
    "tweet_keys = tweet.keys()  # retorna uma lista de chaves\n",
    "print(\"tweet keys:\", type(tweet_keys), tweet_keys)\n",
    "\n",
    "tweet_values = tweet.values()  # retorna uma lista de valores\n",
    "print(\"tweet values:\", type(tweet_values), tweet_values)\n",
    "\n",
    "tweet_items = tweet.items()  # retorna uma lista de tuplas (chave, valor)\n",
    "print(\"tweet items:\", type(tweet_items), tweet_items)\n",
    "\n",
    "print(\"user\" in tweet.keys())  # retorna True, mas a forma de acessar eh mais lenta\n",
    "print(\"user\" in tweet)  # forma mais Pythonica e mais rapida\n",
    "print(\"joelgrus\" in tweet.values())  # retorna True\n",
    "\n",
    "# as chaves nos dicionarios devem ser imutaveis (logo, nao podem ser listas)\n",
    "# ja os valores podem ser coisas mutaveis"
   ]
  },
  {
   "cell_type": "code",
   "execution_count": 85,
   "metadata": {},
   "outputs": [
    {
     "name": "stdout",
     "output_type": "stream",
     "text": [
      "nada : 1\n",
      "menos : 1\n",
      "de : 3\n",
      "duas : 2\n",
      "almas : 2\n",
      "cada : 1\n",
      "criatura : 1\n",
      "humana : 1\n",
      "traz : 1\n",
      "consigo : 1\n",
      "uma : 1\n",
      "que : 2\n",
      "olha : 2\n",
      "dentro : 1\n",
      "para : 2\n",
      "fora : 2\n",
      "outra : 1\n",
      "entro : 1\n"
     ]
    }
   ],
   "source": [
    "# defauldict\n",
    "\n",
    "# exemplo de uso de dicionario: contar as quantidades de palavras num documento\n",
    "\n",
    "document = [\n",
    "    \"nada\", \"menos\", \"de\", \"duas\", \"almas\", \"cada\", \"criatura\", \"humana\", \"traz\", \"duas\", \n",
    "    \"almas\", \"consigo\", \"uma\", \"que\", \"olha\", \"de\", \"dentro\", \"para\", \"fora\", \"outra\", \n",
    "    \"que\", \"olha\", \"de\", \"fora\", \"para\", \"entro\"   \n",
    "]\n",
    "\n",
    "word_counts = {}  # um dicionario vazio\n",
    "for word in document:\n",
    "    if word in word_counts:\n",
    "        word_counts[word] += 1\n",
    "    else:\n",
    "        word_counts[word] = 1\n",
    "        \n",
    "for (word, count) in word_counts.items():\n",
    "    print(word, \":\", count)"
   ]
  },
  {
   "cell_type": "code",
   "execution_count": 86,
   "metadata": {},
   "outputs": [
    {
     "name": "stdout",
     "output_type": "stream",
     "text": [
      "nada : 1\n",
      "menos : 1\n",
      "de : 3\n",
      "duas : 2\n",
      "almas : 2\n",
      "cada : 1\n",
      "criatura : 1\n",
      "humana : 1\n",
      "traz : 1\n",
      "consigo : 1\n",
      "uma : 1\n",
      "que : 2\n",
      "olha : 2\n",
      "dentro : 1\n",
      "para : 2\n",
      "fora : 2\n",
      "outra : 1\n",
      "entro : 1\n"
     ]
    }
   ],
   "source": [
    "# outra abordagem de uso do dicionario para contar as quantidades de palavras\n",
    "\n",
    "word_counts = {}  # um dicionario vazio\n",
    "for word in document:\n",
    "    try:\n",
    "        word_counts[word] += 1\n",
    "    except:\n",
    "        word_counts[word] = 1\n",
    "\n",
    "for (word, count) in word_counts.items():\n",
    "    print(word, \":\", count)"
   ]
  },
  {
   "cell_type": "code",
   "execution_count": 87,
   "metadata": {},
   "outputs": [
    {
     "name": "stdout",
     "output_type": "stream",
     "text": [
      "nada : 1\n",
      "menos : 1\n",
      "de : 3\n",
      "duas : 2\n",
      "almas : 2\n",
      "cada : 1\n",
      "criatura : 1\n",
      "humana : 1\n",
      "traz : 1\n",
      "consigo : 1\n",
      "uma : 1\n",
      "que : 2\n",
      "olha : 2\n",
      "dentro : 1\n",
      "para : 2\n",
      "fora : 2\n",
      "outra : 1\n",
      "entro : 1\n"
     ]
    }
   ],
   "source": [
    "# e uma terceira abordagem, com metodo get()\n",
    "\n",
    "word_counts = {}  # um dicionario vazio\n",
    "for word in document:\n",
    "    previous_count = word_counts.get(word, 0)\n",
    "    word_counts[word] = previous_count + 1\n",
    "    \n",
    "for (word, count) in word_counts.items():\n",
    "    print(word, \":\", count)"
   ]
  },
  {
   "cell_type": "code",
   "execution_count": 89,
   "metadata": {},
   "outputs": [
    {
     "name": "stdout",
     "output_type": "stream",
     "text": [
      "nada : 1\n",
      "menos : 1\n",
      "de : 3\n",
      "duas : 2\n",
      "almas : 2\n",
      "cada : 1\n",
      "criatura : 1\n",
      "humana : 1\n",
      "traz : 1\n",
      "consigo : 1\n",
      "uma : 1\n",
      "que : 2\n",
      "olha : 2\n",
      "dentro : 1\n",
      "para : 2\n",
      "fora : 2\n",
      "outra : 1\n",
      "entro : 1\n"
     ]
    }
   ],
   "source": [
    "# as formas acimas lidam com dicionarios de modo um pouco pesado\n",
    "# para esses casos, 'defaultdict' eh muito util\n",
    "# para usa-lo, deve-se importar da biblioteca 'collections'\n",
    "\n",
    "from collections import defaultdict\n",
    "\n",
    "word_counts = defaultdict(int)  #  a funcao int() devolve 0\n",
    "for word in document:\n",
    "    word_counts[word] += 1\n",
    "\n",
    "for (word, count) in word_counts.items():\n",
    "    print(word, \":\", count)"
   ]
  },
  {
   "cell_type": "code",
   "execution_count": 94,
   "metadata": {},
   "outputs": [
    {
     "name": "stdout",
     "output_type": "stream",
     "text": [
      "defaultdict(<class 'list'>, {})\n",
      "defaultdict(<class 'list'>, {2: [1]})\n",
      "defaultdict(<class 'dict'>, {})\n",
      "defaultdict(<class 'dict'>, {'Joel': {'City': 'Seattle'}})\n",
      "defaultdict(<function <lambda> at 0x7f1191068ca0>, {})\n",
      "defaultdict(<function <lambda> at 0x7f1191068ca0>, {2: [0, 1]})\n",
      "defaultdict(<function <lambda> at 0x7f1191068ca0>, {2: [0, 1], 5: [100, 0]})\n"
     ]
    },
    {
     "ename": "IndexError",
     "evalue": "list assignment index out of range",
     "output_type": "error",
     "traceback": [
      "\u001b[0;31m---------------------------------------------------------------------------\u001b[0m",
      "\u001b[0;31mIndexError\u001b[0m                                Traceback (most recent call last)",
      "\u001b[0;32m<ipython-input-94-b03aeabe2158>\u001b[0m in \u001b[0;36m<module>\u001b[0;34m\u001b[0m\n\u001b[1;32m     22\u001b[0m \u001b[0mprint\u001b[0m\u001b[0;34m(\u001b[0m\u001b[0mdd_pair\u001b[0m\u001b[0;34m)\u001b[0m\u001b[0;34m\u001b[0m\u001b[0;34m\u001b[0m\u001b[0m\n\u001b[1;32m     23\u001b[0m \u001b[0;34m\u001b[0m\u001b[0m\n\u001b[0;32m---> 24\u001b[0;31m \u001b[0mdd_pair\u001b[0m\u001b[0;34m[\u001b[0m\u001b[0;36m10\u001b[0m\u001b[0;34m]\u001b[0m\u001b[0;34m[\u001b[0m\u001b[0;36m2\u001b[0m\u001b[0;34m]\u001b[0m \u001b[0;34m=\u001b[0m \u001b[0;34m-\u001b[0m\u001b[0;36m1\u001b[0m  \u001b[0;31m# tenta acessar uma posicao da lista que nao existe\u001b[0m\u001b[0;34m\u001b[0m\u001b[0;34m\u001b[0m\u001b[0m\n\u001b[0m\u001b[1;32m     25\u001b[0m \u001b[0mprint\u001b[0m\u001b[0;34m(\u001b[0m\u001b[0mdd_pair\u001b[0m\u001b[0;34m)\u001b[0m\u001b[0;34m\u001b[0m\u001b[0;34m\u001b[0m\u001b[0m\n",
      "\u001b[0;31mIndexError\u001b[0m: list assignment index out of range"
     ]
    }
   ],
   "source": [
    "# defaultdict tambem pode ser usado com list ou dict ou mesmo suas proprias funcoes\n",
    "\n",
    "dd_list = defaultdict(list)  # list() retorna uma lista vazia\n",
    "print(dd_list)\n",
    "\n",
    "dd_list[2].append(1)\n",
    "print(dd_list)\n",
    "\n",
    "dd_dict = defaultdict(dict)  # dict() retorna um dicionario vazio\n",
    "print(dd_dict)\n",
    "\n",
    "dd_dict[\"Joel\"][\"City\"] = \"Seattle\"  # {\"Joel\": {\"City\": \"Seattle\"}}\n",
    "print(dd_dict)\n",
    "\n",
    "dd_pair = defaultdict(lambda: [0, 0])\n",
    "print(dd_pair)\n",
    "\n",
    "dd_pair[2][1] = 1\n",
    "print(dd_pair)\n",
    "\n",
    "dd_pair[5][0] = 100\n",
    "print(dd_pair)\n",
    "\n",
    "dd_pair[10][2] = -1  # tenta acessar uma posicao da lista que nao existe, \n",
    "                     # e lanca um IndexError: list assignment index out of range\n",
    "print(dd_pair)"
   ]
  },
  {
   "cell_type": "code",
   "execution_count": 95,
   "metadata": {},
   "outputs": [
    {
     "name": "stdout",
     "output_type": "stream",
     "text": [
      "Counter({0: 2, 1: 1, 2: 1})\n"
     ]
    }
   ],
   "source": [
    "# Counter\n",
    "\n",
    "# Counter eh uma classe que transforma uma sequencia de valores em um objeto do tipo defaultdict(int)\n",
    "\n",
    "from collections import Counter\n",
    "c = Counter([0, 1, 2, 0])\n",
    "print(c)"
   ]
  },
  {
   "cell_type": "code",
   "execution_count": 96,
   "metadata": {},
   "outputs": [
    {
     "name": "stdout",
     "output_type": "stream",
     "text": [
      "nada : 1\n",
      "menos : 1\n",
      "de : 3\n",
      "duas : 2\n",
      "almas : 2\n",
      "cada : 1\n",
      "criatura : 1\n",
      "humana : 1\n",
      "traz : 1\n",
      "consigo : 1\n",
      "uma : 1\n",
      "que : 2\n",
      "olha : 2\n",
      "dentro : 1\n",
      "para : 2\n",
      "fora : 2\n",
      "outra : 1\n",
      "entro : 1\n"
     ]
    }
   ],
   "source": [
    "# para contar as palavras do documento, fica mais facil com Counter\n",
    "\n",
    "word_counts = Counter(document)\n",
    "\n",
    "for (word, count) in word_counts.items():\n",
    "    print(word, \":\", count)"
   ]
  },
  {
   "cell_type": "code",
   "execution_count": 97,
   "metadata": {},
   "outputs": [
    {
     "name": "stdout",
     "output_type": "stream",
     "text": [
      "de 3\n",
      "duas 2\n",
      "almas 2\n",
      "que 2\n",
      "olha 2\n"
     ]
    }
   ],
   "source": [
    "# Counter tem um metodo interessante: 'most_common()'\n",
    "\n",
    "# imprime as 5 palavras mais comuns\n",
    "for word, count in word_counts.most_common(5):\n",
    "    print(word, count)"
   ]
  }
 ],
 "metadata": {
  "kernelspec": {
   "display_name": "Python 3",
   "language": "python",
   "name": "python3"
  },
  "language_info": {
   "codemirror_mode": {
    "name": "ipython",
    "version": 3
   },
   "file_extension": ".py",
   "mimetype": "text/x-python",
   "name": "python",
   "nbconvert_exporter": "python",
   "pygments_lexer": "ipython3",
   "version": "3.8.5"
  }
 },
 "nbformat": 4,
 "nbformat_minor": 4
}
