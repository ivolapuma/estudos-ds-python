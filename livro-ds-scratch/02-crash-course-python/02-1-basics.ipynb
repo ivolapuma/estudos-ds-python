{
 "cells": [
  {
   "cell_type": "code",
   "execution_count": null,
   "metadata": {},
   "outputs": [],
   "source": [
    "# 2 A Crash Course in Python\n",
    "\n",
    "# 2.1 The Basics"
   ]
  },
  {
   "cell_type": "code",
   "execution_count": 1,
   "metadata": {},
   "outputs": [
    {
     "name": "stdout",
     "output_type": "stream",
     "text": [
      "The Zen of Python, by Tim Peters\n",
      "\n",
      "Beautiful is better than ugly.\n",
      "Explicit is better than implicit.\n",
      "Simple is better than complex.\n",
      "Complex is better than complicated.\n",
      "Flat is better than nested.\n",
      "Sparse is better than dense.\n",
      "Readability counts.\n",
      "Special cases aren't special enough to break the rules.\n",
      "Although practicality beats purity.\n",
      "Errors should never pass silently.\n",
      "Unless explicitly silenced.\n",
      "In the face of ambiguity, refuse the temptation to guess.\n",
      "There should be one-- and preferably only one --obvious way to do it.\n",
      "Although that way may not be obvious at first unless you're Dutch.\n",
      "Now is better than never.\n",
      "Although never is often better than *right* now.\n",
      "If the implementation is hard to explain, it's a bad idea.\n",
      "If the implementation is easy to explain, it may be a good idea.\n",
      "Namespaces are one honking great idea -- let's do more of those!\n"
     ]
    }
   ],
   "source": [
    "import this"
   ]
  },
  {
   "cell_type": "code",
   "execution_count": null,
   "metadata": {},
   "outputs": [],
   "source": [
    "#\n",
    "# Whitespace formatting\n",
    "#"
   ]
  },
  {
   "cell_type": "code",
   "execution_count": 2,
   "metadata": {},
   "outputs": [
    {
     "name": "stdout",
     "output_type": "stream",
     "text": [
      "1\n",
      "1\n",
      "2\n",
      "2\n",
      "3\n",
      "3\n",
      "4\n",
      "4\n",
      "5\n",
      "5\n",
      "6\n",
      "1\n",
      "2\n",
      "1\n",
      "3\n",
      "2\n",
      "4\n",
      "3\n",
      "5\n",
      "4\n",
      "6\n",
      "5\n",
      "7\n",
      "2\n",
      "3\n",
      "1\n",
      "4\n",
      "2\n",
      "5\n",
      "3\n",
      "6\n",
      "4\n",
      "7\n",
      "5\n",
      "8\n",
      "3\n",
      "4\n",
      "1\n",
      "5\n",
      "2\n",
      "6\n",
      "3\n",
      "7\n",
      "4\n",
      "8\n",
      "5\n",
      "9\n",
      "4\n",
      "5\n",
      "1\n",
      "6\n",
      "2\n",
      "7\n",
      "3\n",
      "8\n",
      "4\n",
      "9\n",
      "5\n",
      "10\n",
      "5\n",
      "looping done\n"
     ]
    }
   ],
   "source": [
    "# Diferentemente de outras linguagens, Python nao usa {} para delimitar blocos de codigo. Python usa indentacao\n",
    "for i in [1, 2, 3, 4, 5]:\n",
    "    print(i)\n",
    "    for j in [1, 2, 3, 4, 5]:\n",
    "        print(j)\n",
    "        print(i + j)\n",
    "    print(i)\n",
    "print(\"looping done\")"
   ]
  },
  {
   "cell_type": "code",
   "execution_count": 5,
   "metadata": {},
   "outputs": [
    {
     "name": "stdout",
     "output_type": "stream",
     "text": [
      "210\n",
      "[[1, 2, 3], [4, 5, 6], [7, 8, 9]]\n",
      "[[1, 2, 3], [4, 5, 6], [7, 8, 9]]\n"
     ]
    }
   ],
   "source": [
    "# Espacos em branco sao ignorados dentro de parenteses () e colchetes []\n",
    "\n",
    "long_winded_computation = (1 + 2 + 3 + 4 + 5 + 6 + 7 + 8 +\n",
    "                          9 + 10 + 11 + 12 + 13 + 14 + 15 + \n",
    "                          16 + 17 + 18 + 19 + 20)\n",
    "\n",
    "print(long_winded_computation)\n",
    "\n",
    "list_of_lists = [[1, 2, 3], [4, 5, 6], [7, 8, 9]]\n",
    "\n",
    "print(list_of_lists)\n",
    "\n",
    "easer_to_read_list_of_lists = [ [1, 2, 3], \n",
    "                                [4, 5, 6],\n",
    "                                [7, 8, 9] ]\n",
    "\n",
    "print(easer_to_read_list_of_lists)"
   ]
  },
  {
   "cell_type": "code",
   "execution_count": 6,
   "metadata": {},
   "outputs": [
    {
     "name": "stdout",
     "output_type": "stream",
     "text": [
      "5\n"
     ]
    }
   ],
   "source": [
    "# uma \\ pode ser usada para indicar quebra de linha, mas eh opcional\n",
    "two_plus_three = 2 + \\\n",
    "                 3\n",
    "\n",
    "print(two_plus_three)"
   ]
  },
  {
   "cell_type": "code",
   "execution_count": null,
   "metadata": {},
   "outputs": [],
   "source": [
    "#\n",
    "# Modules\n",
    "#"
   ]
  },
  {
   "cell_type": "code",
   "execution_count": 9,
   "metadata": {},
   "outputs": [
    {
     "name": "stdout",
     "output_type": "stream",
     "text": [
      "RegexFlag.IGNORECASE\n",
      "re.compile('[0-9]+', re.IGNORECASE)\n"
     ]
    }
   ],
   "source": [
    "# Existem recursos (modulos) que nao sao carregados por padrao no Python. Sendo recursos base da linguagem\n",
    "# ou recursos baixados e fornecidos por terceiros.\n",
    "# Para usar esses modulos, eles devem ser importados com comando 'import'\n",
    "\n",
    "import re  # modulo para expressoes regulares (regex)\n",
    "\n",
    "print(re.I)\n",
    "\n",
    "my_regex = re.compile(\"[0-9]+\", re.I)\n",
    "\n",
    "print(my_regex)"
   ]
  },
  {
   "cell_type": "code",
   "execution_count": 11,
   "metadata": {},
   "outputs": [
    {
     "name": "stdout",
     "output_type": "stream",
     "text": [
      "RegexFlag.IGNORECASE\n",
      "re.compile('[0-9]+', re.IGNORECASE)\n"
     ]
    }
   ],
   "source": [
    "# Pode-se usar alias para usar os modulos importados\n",
    "\n",
    "import re as regex  # o que vem depois de 'as' eh o alias para o modulo importado\n",
    "\n",
    "print(regex.I)\n",
    "\n",
    "my_regex = regex.compile(\"[0-9]+\", regex.I)\n",
    "\n",
    "print(my_regex)\n",
    "\n",
    "import matplotlib.pyplot as plt"
   ]
  },
  {
   "cell_type": "code",
   "execution_count": 13,
   "metadata": {},
   "outputs": [
    {
     "name": "stdout",
     "output_type": "stream",
     "text": [
      "defaultdict(None, {})\n",
      "Counter()\n"
     ]
    }
   ],
   "source": [
    "# Para usar recursos especificos de um modulo, pode-se importar explicitamente cada recurso\n",
    "\n",
    "from collections import defaultdict, Counter\n",
    "lookup = defaultdict()\n",
    "my_counter = Counter()\n",
    "\n",
    "print(lookup)\n",
    "print(my_counter)"
   ]
  },
  {
   "cell_type": "code",
   "execution_count": 14,
   "metadata": {},
   "outputs": [
    {
     "name": "stdout",
     "output_type": "stream",
     "text": [
      "10\n",
      "<function match at 0x7f11f0992280>\n"
     ]
    }
   ],
   "source": [
    "# Tambem pode-se importar todos os recursos de modo implicito, \n",
    "# mas nao eh recomendado, pois se houver alguma variavel com mesmo nome\n",
    "# sera sobrescrita\n",
    "\n",
    "match = 10\n",
    "print(match)\n",
    "\n",
    "from re import *  # modulo 're' tem uma funcao 'match'\n",
    "print(match)"
   ]
  },
  {
   "cell_type": "code",
   "execution_count": null,
   "metadata": {},
   "outputs": [],
   "source": [
    "#\n",
    "# Arithmetic\n",
    "#"
   ]
  },
  {
   "cell_type": "code",
   "execution_count": 20,
   "metadata": {},
   "outputs": [
    {
     "name": "stdout",
     "output_type": "stream",
     "text": [
      "No Python 3...\n",
      "5 / 2 = 2.5 (operador de divisao convencional)\n",
      "5 // 2 = 2 (operador de divisao que retorna inteiro)\n",
      "5 % 2 = 1 (operador de divisao que retorna o resto da parte inteira)\n"
     ]
    }
   ],
   "source": [
    "# No Python 2, o operador de divisao retornava um inteiro:\n",
    "#\n",
    "# 5 / 2 retorna 2\n",
    "#\n",
    "# Para resolver, antes tinha que fazer o seguinte import:\n",
    "#\n",
    "# from __future__ import division\n",
    "#\n",
    "# e entao 5 / 2 retorna 2.5\n",
    "#\n",
    "print(\"No Python 3...\")\n",
    "print(\"5 / 2 =\", 5/2, \"(operador de divisao convencional)\")\n",
    "print(\"5 // 2 =\", 5//2, \"(operador de divisao que retorna inteiro)\")\n",
    "print(\"5 % 2 =\", 5%2, \"(operador de divisao que retorna o resto da parte inteira)\")"
   ]
  },
  {
   "cell_type": "code",
   "execution_count": null,
   "metadata": {},
   "outputs": [],
   "source": [
    "#\n",
    "# Functions\n",
    "#"
   ]
  },
  {
   "cell_type": "code",
   "execution_count": 23,
   "metadata": {},
   "outputs": [
    {
     "name": "stdout",
     "output_type": "stream",
     "text": [
      "x=2, logo double(x) = 4\n"
     ]
    }
   ],
   "source": [
    "def double(x):\n",
    "    '''Aqui vai um texto opcional para descricao do que a funcao faz.\n",
    "    P. ex., essa funcao recebe x e retorna o seu valor multiplicado por 2.'''\n",
    "    return x * 2\n",
    "\n",
    "x = 2\n",
    "print(\"x=2, logo double(x) =\", double(x))"
   ]
  },
  {
   "cell_type": "code",
   "execution_count": 24,
   "metadata": {},
   "outputs": [
    {
     "name": "stdout",
     "output_type": "stream",
     "text": [
      "<function double at 0x7f1191068040>\n",
      "2\n"
     ]
    }
   ],
   "source": [
    "# Em Python, as funcoes sao 'first-class', o que significa que pode-se atribuir uma funcao a uma\n",
    "# variavel e passa-la como parametro em outra funcao (callback)\n",
    "\n",
    "def apply_to_one(f):\n",
    "    '''chama a funcao f passando o parametro 1'''\n",
    "    return f(1)\n",
    "\n",
    "my_double = double\n",
    "print(my_double)\n",
    "\n",
    "x = apply_to_one(my_double)\n",
    "print(x)"
   ]
  },
  {
   "cell_type": "code",
   "execution_count": 25,
   "metadata": {},
   "outputs": [
    {
     "name": "stdout",
     "output_type": "stream",
     "text": [
      "5\n"
     ]
    }
   ],
   "source": [
    "# Definicao de lambdas (funcoes anonimas curtas)\n",
    "\n",
    "y = apply_to_one(lambda x: x+4)\n",
    "print(y)"
   ]
  },
  {
   "cell_type": "code",
   "execution_count": 28,
   "metadata": {},
   "outputs": [
    {
     "name": "stdout",
     "output_type": "stream",
     "text": [
      "4\n",
      "4\n"
     ]
    }
   ],
   "source": [
    "# Pode-se atribuir um lambda a uma variavel, mas isso nao eh recomendado\n",
    "\n",
    "another_double = lambda x: x*2  # isso pode mas nao eh recomendado\n",
    "print(another_double(2))\n",
    "\n",
    "def another_double(x): return x * 2  # usar 'def' eh o recomendado\n",
    "print(another_double(2))"
   ]
  },
  {
   "cell_type": "code",
   "execution_count": 29,
   "metadata": {},
   "outputs": [
    {
     "name": "stdout",
     "output_type": "stream",
     "text": [
      "hello\n",
      "my default message\n"
     ]
    }
   ],
   "source": [
    "# Parametros podem receber um valor padrao e passar um valor diferente somente quando for necessario\n",
    "\n",
    "def my_print(message=\"my default message\"):\n",
    "    print(message)\n",
    "    \n",
    "my_print(\"hello\")\n",
    "my_print()  # deve imprimir o valor padrao definido no parametro"
   ]
  },
  {
   "cell_type": "code",
   "execution_count": 30,
   "metadata": {},
   "outputs": [
    {
     "name": "stdout",
     "output_type": "stream",
     "text": [
      "subtract(10, 5) = 5\n",
      "subtract(0, 5) = -5\n",
      "subtract() = 0\n",
      "subtract(b=5) = -5\n"
     ]
    }
   ],
   "source": [
    "# Algumas vezes eh interessante chamar uma funcao especificando os parametro pelo nome...\n",
    "\n",
    "def subtract(a=0, b=0):\n",
    "    return a - b\n",
    "\n",
    "print(\"subtract(10, 5) =\", subtract(10, 5))\n",
    "print(\"subtract(0, 5) =\", subtract(0, 5))\n",
    "print(\"subtract() =\", subtract())  # deve usar os valores padrao para os parametro e retornar 0\n",
    "print(\"subtract(b=5) =\", subtract(b=5))  # parametro a deve assumir o valor padrao e retornar -5"
   ]
  },
  {
   "cell_type": "code",
   "execution_count": null,
   "metadata": {},
   "outputs": [],
   "source": [
    "#\n",
    "# Strings\n",
    "#"
   ]
  },
  {
   "cell_type": "code",
   "execution_count": null,
   "metadata": {},
   "outputs": [],
   "source": [
    "# Strings podem ser delimitadas por aspas simples '' ou duplas \"\"\n",
    "\n",
    "single_quoted_string = 'data science'\n",
    "double_quoted_string = \"data science\""
   ]
  },
  {
   "cell_type": "code",
   "execution_count": 34,
   "metadata": {},
   "outputs": [
    {
     "name": "stdout",
     "output_type": "stream",
     "text": [
      "1\n",
      "tab_string = \t\n",
      "is_tab(tab_string) = True\n"
     ]
    }
   ],
   "source": [
    "# Barra invertida \\ sao usadas para referenciar caracteres especiais\n",
    "\n",
    "def is_tab(s):\n",
    "    '''Retorna True se o parametro for um caracter tab'''\n",
    "    return s == \"\\t\"\n",
    "\n",
    "tab_string = \"\\t\"\n",
    "print(len(tab_string))\n",
    "print(\"tab_string =\", tab_string)\n",
    "print(\"is_tab(tab_string) =\", is_tab(tab_string))"
   ]
  },
  {
   "cell_type": "code",
   "execution_count": 35,
   "metadata": {},
   "outputs": [
    {
     "name": "stdout",
     "output_type": "stream",
     "text": [
      "2\n",
      "not_tab_string = \\t\n",
      "is_tab(not_tab_string) = False\n"
     ]
    }
   ],
   "source": [
    "# Para que as barras invertidas sejam consideradas na string, pode-se criar \n",
    "# uma string 'pura' (de 'raw string')\n",
    "\n",
    "not_tab_string = r\"\\t\"\n",
    "print(len(not_tab_string))\n",
    "print(\"not_tab_string =\", not_tab_string)\n",
    "print(\"is_tab(not_tab_string) =\", is_tab(not_tab_string))"
   ]
  },
  {
   "cell_type": "code",
   "execution_count": 36,
   "metadata": {},
   "outputs": [
    {
     "name": "stdout",
     "output_type": "stream",
     "text": [
      "This is the first line.\n",
      "And this is the second line.\n",
      "And this is the third line.\n"
     ]
    }
   ],
   "source": [
    "# Strings multilinhas podem ser criadas com aspas triplas '''''' ou \"\"\"\"\"\"\n",
    "\n",
    "multi_line_string = \"\"\"This is the first line.\n",
    "And this is the second line.\n",
    "And this is the third line.\"\"\"\n",
    "\n",
    "print(multi_line_string)"
   ]
  },
  {
   "cell_type": "code",
   "execution_count": null,
   "metadata": {},
   "outputs": [],
   "source": [
    "#\n",
    "# Exceptions\n",
    "#"
   ]
  }
 ],
 "metadata": {
  "kernelspec": {
   "display_name": "Python 3",
   "language": "python",
   "name": "python3"
  },
  "language_info": {
   "codemirror_mode": {
    "name": "ipython",
    "version": 3
   },
   "file_extension": ".py",
   "mimetype": "text/x-python",
   "name": "python",
   "nbconvert_exporter": "python",
   "pygments_lexer": "ipython3",
   "version": "3.8.5"
  }
 },
 "nbformat": 4,
 "nbformat_minor": 4
}
