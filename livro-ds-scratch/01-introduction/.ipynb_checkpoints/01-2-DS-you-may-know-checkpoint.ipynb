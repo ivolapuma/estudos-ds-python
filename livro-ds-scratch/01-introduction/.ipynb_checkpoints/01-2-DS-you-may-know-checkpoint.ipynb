{
 "cells": [
  {
   "cell_type": "code",
   "execution_count": 1,
   "metadata": {},
   "outputs": [],
   "source": [
    "# 1 Introduction\n",
    "\n",
    "# 1.2 Data Scientists You May Know"
   ]
  },
  {
   "cell_type": "code",
   "execution_count": 2,
   "metadata": {},
   "outputs": [],
   "source": [
    "users = [\n",
    "    {\"id\": 0, \"name\": \"Hero\"},\n",
    "    {\"id\": 1, \"name\": \"Dunn\"},\n",
    "    {\"id\": 2, \"name\": \"Sue\"},\n",
    "    {\"id\": 3, \"name\": \"Chi\"},\n",
    "    {\"id\": 4, \"name\": \"Thor\"},\n",
    "    {\"id\": 5, \"name\": \"Clive\"},\n",
    "    {\"id\": 6, \"name\": \"Hicks\"},\n",
    "    {\"id\": 7, \"name\": \"Devin\"},\n",
    "    {\"id\": 8, \"name\": \"Kate\"},\n",
    "    {\"id\": 9, \"name\": \"Klein\"},\n",
    "]\n",
    "\n",
    "friendships = [\n",
    "    (0, 1),\n",
    "    (0, 2),\n",
    "    (1, 2),\n",
    "    (1, 3),\n",
    "    (2, 3),\n",
    "    (3, 4),\n",
    "    (4, 5),\n",
    "    (5, 6),\n",
    "    (5, 7),\n",
    "    (6, 8),\n",
    "    (7, 8),\n",
    "    (8, 9),\n",
    "]\n",
    "\n",
    "# adicionando uma lista vazia de amigos em cada usuario\n",
    "for user in users:\n",
    "    user[\"friends\"] = []\n",
    "\n",
    "# populando os amigos de cada usuario\n",
    "for i, j in friendships:\n",
    "    users[i][\"friends\"].append(users[j])  # adiciona usuario em j como amigo do usuario em i\n",
    "    users[j][\"friends\"].append(users[i])  # adiciona usuario em i como amigo do usuario em j"
   ]
  },
  {
   "cell_type": "code",
   "execution_count": 3,
   "metadata": {},
   "outputs": [],
   "source": [
    "# sugestao de \"usuarios que vc queira conhecer\"...\n",
    "\n",
    "def friends_of_friends_ids_bad(user):\n",
    "    # \"foaf\" eh abreviacao para \"friend of a friend\" (amigo de um amigo)\n",
    "    return [foaf[\"id\"] for friend in user[\"friends\"] for foaf in friend[\"friends\"]]"
   ]
  },
  {
   "cell_type": "code",
   "execution_count": 4,
   "metadata": {},
   "outputs": [
    {
     "data": {
      "text/plain": [
       "[0, 2, 3, 0, 1, 3]"
      ]
     },
     "execution_count": 4,
     "metadata": {},
     "output_type": "execute_result"
    }
   ],
   "source": [
    "friends_of_friends_ids_bad(users[0])  # user Hero"
   ]
  },
  {
   "cell_type": "code",
   "execution_count": 5,
   "metadata": {},
   "outputs": [
    {
     "name": "stdout",
     "output_type": "stream",
     "text": [
      "[0, 1, 2, 3, 4, 5, 6]\n",
      "numeros de lista sao todos menores_que_10? True\n"
     ]
    }
   ],
   "source": [
    "# verificando funcao all() ...\n",
    "\n",
    "lista = [0, 1, 2, 3, 4, 5, 6]\n",
    "print(lista)\n",
    "\n",
    "menores_que_10 = all([(n < 10) for n in lista])\n",
    "print(\"numeros de lista sao todos menores_que_10?\", menores_que_10)"
   ]
  },
  {
   "cell_type": "code",
   "execution_count": 6,
   "metadata": {},
   "outputs": [],
   "source": [
    "# excluindo as pessoas ja conhecidas...\n",
    "\n",
    "def not_the_same(user, other_user):\n",
    "    '''usuarios sao diferentes se tiverem ids diferentes'''\n",
    "    return user[\"id\"] != other_user[\"id\"]\n",
    "\n",
    "def not_friends(user, other_user):\n",
    "    '''o outro usuario nao eh amigo se nao estiver na lista de amigos do usuario;\n",
    "    ou seja, se nao for o mesmo usuario dos demais que estao na lista de amigos'''\n",
    "    return all(not_the_same(friend, other_user) for friend in user[\"friends\"])\n",
    "\n",
    "def friends_of_friend_ids(user):\n",
    "    return Counter(foaf[\"id\"]\n",
    "                      for friend in user[\"friends\"]\n",
    "                      for foaf in friend[\"friends\"]\n",
    "                      if not_the_same(user, foaf) and not_friends(user, foaf))"
   ]
  },
  {
   "cell_type": "code",
   "execution_count": 7,
   "metadata": {},
   "outputs": [
    {
     "name": "stdout",
     "output_type": "stream",
     "text": [
      "user Hero\n",
      "friends... ['Dunn', 'Sue']\n",
      "friends of friends... ['Hero', 'Sue', 'Chi', 'Hero', 'Dunn', 'Chi']\n",
      "friends of friends not the same and not friends... ['Chi', 'Chi']\n",
      "Counter friends of friends... Counter({3: 2})\n"
     ]
    }
   ],
   "source": [
    "# verificando funcao Counter...\n",
    "\n",
    "from collections import Counter\n",
    "\n",
    "user = users[0]\n",
    "\n",
    "print(\"user\", user[\"name\"])\n",
    "\n",
    "print(\"friends...\",\n",
    "      [friend[\"name\"] for friend in user[\"friends\"]])\n",
    "\n",
    "print(\"friends of friends...\",\n",
    "      [foaf[\"name\"] for friend in user[\"friends\"] for foaf in friend[\"friends\"]])\n",
    "\n",
    "print(\"friends of friends not the same and not friends...\",\n",
    "      [foaf[\"name\"] for friend in user[\"friends\"] for foaf in friend[\"friends\"] if not_the_same(user, foaf) and not_friends(user, foaf)])\n",
    "\n",
    "print(\"Counter friends of friends...\",\n",
    "      Counter(foaf[\"id\"] for friend in user[\"friends\"] for foaf in friend[\"friends\"] if not_the_same(user, foaf) and not_friends(user, foaf)))"
   ]
  },
  {
   "cell_type": "code",
   "execution_count": 8,
   "metadata": {},
   "outputs": [
    {
     "name": "stdout",
     "output_type": "stream",
     "text": [
      "0 Hero ['Dunn', 'Sue']\n",
      "1 Dunn ['Hero', 'Sue', 'Chi']\n",
      "2 Sue ['Hero', 'Dunn', 'Chi']\n",
      "3 Chi ['Dunn', 'Sue', 'Thor']\n",
      "4 Thor ['Chi', 'Clive']\n",
      "5 Clive ['Thor', 'Hicks', 'Devin']\n",
      "6 Hicks ['Clive', 'Kate']\n",
      "7 Devin ['Clive', 'Kate']\n",
      "8 Kate ['Hicks', 'Devin', 'Klein']\n",
      "9 Klein ['Kate']\n"
     ]
    }
   ],
   "source": [
    "# printando os usuarios e seus amigos...\n",
    "for user in users:\n",
    "    print(user[\"id\"], user[\"name\"], [friend[\"name\"] for friend in user[\"friends\"]])"
   ]
  },
  {
   "cell_type": "code",
   "execution_count": 9,
   "metadata": {},
   "outputs": [
    {
     "name": "stdout",
     "output_type": "stream",
     "text": [
      "usuarios 0 e 1 nao sao os mesmos? True\n",
      "usuarios 2 e 2 nao sao os mesmos? False\n",
      "usuarios 0 e 1 nao sao amigos? False\n",
      "usuarios 0 e 6 nao sao amigos? True\n",
      "amigos dos amigo que nao conhecem usuario 3 Counter({0: 2, 5: 1})\n"
     ]
    }
   ],
   "source": [
    "# alguns testes...\n",
    "print(\"usuarios 0 e 1 nao sao os mesmos?\", not_the_same(users[0], users[1]))\n",
    "print(\"usuarios 2 e 2 nao sao os mesmos?\", not_the_same(users[2], users[2]))\n",
    "print(\"usuarios 0 e 1 nao sao amigos?\", not_friends(users[0], users[1]))\n",
    "print(\"usuarios 0 e 6 nao sao amigos?\", not_friends(users[0], users[6]))\n",
    "print(\"amigos dos amigo que nao conhecem usuario 3\", friends_of_friend_ids(users[3]))"
   ]
  },
  {
   "cell_type": "code",
   "execution_count": 10,
   "metadata": {},
   "outputs": [],
   "source": [
    "# os interesses dos usuarios...\n",
    "\n",
    "interests = [\n",
    "    (0, \"Hadoop\"), (0, \"Big Data\"), (0, \"HBase\"), (0, \"Java\"), (0, \"Spark\"), (0, \"Storm\"), (0, \"Cassandra\"),\n",
    "    (1, \"NoSQL\"), (1, \"MongoDB\"), (1, \"Cassandra\"), (1, \"HBase\"), (1, \"Postgres\"), \n",
    "    (2, \"Python\"), (2, \"scikit-learn\"), (2, \"scipy\"), (2, \"numpy\"), (2, \"statsmodels\"), (2, \"pandas\"), \n",
    "    (3, \"R\"), (3, \"Python\"), (3, \"statistics\"), (3, \"regression\"), (3, \"probability\"),\n",
    "    (4, \"machine learning\"), (4, \"regression\"), (4, \"decision trees\"), (4, \"libsvm\"), \n",
    "    (5, \"Python\"), (5, \"R\"), (5, \"Java\"), (5, \"C++\"), (5, \"Haskell\"), (5, \"programming languages\"), \n",
    "    (6, \"statistics\"), (6, \"probability\"), (6, \"mathematics\"), (6, \"theory\"),\n",
    "    (7, \"machine learning\"), (7, \"scikit-learn\"), (7, \"Mahout\"), (7, \"neural networks\"), \n",
    "    (8, \"neural networks\"), (8, \"deep learning\"), (8, \"Big Data\"), (8, \"artificial intelligence\"), \n",
    "    (9, \"Hadoop\"), (9, \"Java\"), (9, \"MapReduce\"), (9, \"Big Data\")\n",
    "]"
   ]
  },
  {
   "cell_type": "code",
   "execution_count": 11,
   "metadata": {},
   "outputs": [],
   "source": [
    "# funcao para identificar usuarios com certo interesse um um assunto...\n",
    "\n",
    "def DS_who_like(interest):\n",
    "    '''a funcao espera que a lista interests esteja definida!!!'''\n",
    "    return [user_id for user_id, user_interest in interests if user_interest == interest]"
   ]
  },
  {
   "cell_type": "code",
   "execution_count": 12,
   "metadata": {},
   "outputs": [
    {
     "name": "stdout",
     "output_type": "stream",
     "text": [
      "usuarios que gostam de machine learing [4, 7]\n"
     ]
    }
   ],
   "source": [
    "# alguns testes...\n",
    "print(\"usuarios que gostam de machine learing\", DS_who_like(\"machine learning\"))"
   ]
  },
  {
   "cell_type": "code",
   "execution_count": 13,
   "metadata": {},
   "outputs": [
    {
     "name": "stdout",
     "output_type": "stream",
     "text": [
      "assunto x usuarios\n",
      "Hadoop [0, 9]\n",
      "Big Data [0, 8, 9]\n",
      "HBase [0, 1]\n",
      "Java [0, 5, 9]\n",
      "Spark [0]\n",
      "Storm [0]\n",
      "Cassandra [0, 1]\n",
      "NoSQL [1]\n",
      "MongoDB [1]\n",
      "Postgres [1]\n",
      "Python [2, 3, 5]\n",
      "scikit-learn [2, 7]\n",
      "scipy [2]\n",
      "numpy [2]\n",
      "statsmodels [2]\n",
      "pandas [2]\n",
      "R [3, 5]\n",
      "statistics [3, 6]\n",
      "regression [3, 4]\n",
      "probability [3, 6]\n",
      "machine learning [4, 7]\n",
      "decision trees [4]\n",
      "libsvm [4]\n",
      "C++ [5]\n",
      "Haskell [5]\n",
      "programming languages [5]\n",
      "mathematics [6]\n",
      "theory [6]\n",
      "Mahout [7]\n",
      "neural networks [7, 8]\n",
      "deep learning [8]\n",
      "artificial intelligence [8]\n",
      "MapReduce [9]\n",
      "\n",
      "usuario x assuntos\n",
      "0 ['Hadoop', 'Big Data', 'HBase', 'Java', 'Spark', 'Storm', 'Cassandra']\n",
      "1 ['NoSQL', 'MongoDB', 'Cassandra', 'HBase', 'Postgres']\n",
      "2 ['Python', 'scikit-learn', 'scipy', 'numpy', 'statsmodels', 'pandas']\n",
      "3 ['R', 'Python', 'statistics', 'regression', 'probability']\n",
      "4 ['machine learning', 'regression', 'decision trees', 'libsvm']\n",
      "5 ['Python', 'R', 'Java', 'C++', 'Haskell', 'programming languages']\n",
      "6 ['statistics', 'probability', 'mathematics', 'theory']\n",
      "7 ['machine learning', 'scikit-learn', 'Mahout', 'neural networks']\n",
      "8 ['neural networks', 'deep learning', 'Big Data', 'artificial intelligence']\n",
      "9 ['Hadoop', 'Java', 'MapReduce', 'Big Data']\n"
     ]
    }
   ],
   "source": [
    "# construindo dicionarios de assuntos e usuarios interessados...\n",
    "\n",
    "from collections import defaultdict\n",
    "\n",
    "# dicionario em que as chaves sao os assuntos e os valores sao as listas de user_id com interesse no assunto\n",
    "user_ids_by_interest = defaultdict(list)\n",
    "\n",
    "for user_id, interest in interests:\n",
    "    user_ids_by_interest[interest].append(user_id)\n",
    "\n",
    "print(\"assunto x usuarios\")\n",
    "for interest in user_ids_by_interest.keys(): \n",
    "    print(interest, user_ids_by_interest[interest])\n",
    "\n",
    "# dicionario em que as chaves sao os user_id e os valores sao listas de assuntos que o usuario tem\n",
    "interests_by_user_id = defaultdict(list)\n",
    "\n",
    "for user_id, interest in interests:\n",
    "    interests_by_user_id[user_id].append(interest)\n",
    "\n",
    "print()\n",
    "    \n",
    "print(\"usuario x assuntos\")\n",
    "for user_id in interests_by_user_id.keys(): \n",
    "    print(user_id, interests_by_user_id[user_id])"
   ]
  },
  {
   "cell_type": "code",
   "execution_count": 14,
   "metadata": {},
   "outputs": [],
   "source": [
    "# identificando assuntos mais comuns a um usuario\n",
    "\n",
    "def most_common_interests_with(user):\n",
    "    '''a funcao espera que os dicionarios 'interests_by_user_id' e 'user_ids_by_interest' \n",
    "    estejam definidas previamente!!!'''\n",
    "    return Counter(interested_user_id\n",
    "                  for interest in interests_by_user_id[user[\"id\"]]\n",
    "                  for interested_user_id in user_ids_by_interest[interest]\n",
    "                  if interested_user_id != user[\"id\"])"
   ]
  },
  {
   "cell_type": "code",
   "execution_count": 15,
   "metadata": {},
   "outputs": [
    {
     "name": "stdout",
     "output_type": "stream",
     "text": [
      "Counter({9: 3, 1: 2, 8: 1, 5: 1})\n",
      "\n",
      "usuarios com interesses em comum a Hero\n",
      "Klein 3\n",
      "Kate 1\n",
      "Dunn 2\n",
      "Clive 1\n"
     ]
    }
   ],
   "source": [
    "# testando most_common_interests_with()...\n",
    "\n",
    "print(most_common_interests_with(users[0]))\n",
    "print()\n",
    "\n",
    "most_common_interests = most_common_interests_with(users[0])\n",
    "print(\"usuarios com interesses em comum a\", users[0][\"name\"])\n",
    "for user_id in most_common_interests.keys():\n",
    "    print(users[user_id][\"name\"], most_common_interests[user_id])"
   ]
  }
 ],
 "metadata": {
  "kernelspec": {
   "display_name": "Python 3",
   "language": "python",
   "name": "python3"
  },
  "language_info": {
   "codemirror_mode": {
    "name": "ipython",
    "version": 3
   },
   "file_extension": ".py",
   "mimetype": "text/x-python",
   "name": "python",
   "nbconvert_exporter": "python",
   "pygments_lexer": "ipython3",
   "version": "3.8.5"
  }
 },
 "nbformat": 4,
 "nbformat_minor": 4
}
