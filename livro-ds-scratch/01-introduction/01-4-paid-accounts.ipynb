{
 "cells": [
  {
   "cell_type": "code",
   "execution_count": null,
   "metadata": {},
   "outputs": [],
   "source": [
    "# 1 Introduction\n",
    "\n",
    "# 1.4 Paid Accounts"
   ]
  },
  {
   "cell_type": "code",
   "execution_count": 1,
   "metadata": {},
   "outputs": [],
   "source": [
    "# baseado na lista de tempo de trabalho e a informação de contas pagas...\n",
    "tenures_and_accounts_paid = [\n",
    "    (0.7, \"paid\"),\n",
    "    (1.9, \"unpaid\"),\n",
    "    (2.5, \"paid\"),\n",
    "    (4.2, \"unpaid\"),\n",
    "    (6, \"unpaid\"),\n",
    "    (6.5, \"unpaid\"),\n",
    "    (7.5, \"unpaid\"),\n",
    "    (8.1, \"unpaid\"),\n",
    "    (8.7, \"paid\"),\n",
    "    (10, \"paid\"),\n",
    "]"
   ]
  },
  {
   "cell_type": "code",
   "execution_count": 2,
   "metadata": {},
   "outputs": [],
   "source": [
    "def predict_paid_or_unpaid(years_experience):\n",
    "    if years_experience < 3.0:\n",
    "        return \"paid\"\n",
    "    elif years_experience < 8.5:\n",
    "        return \"unpaid\"\n",
    "    else:\n",
    "        return \"paid\""
   ]
  },
  {
   "cell_type": "code",
   "execution_count": 3,
   "metadata": {},
   "outputs": [
    {
     "name": "stdout",
     "output_type": "stream",
     "text": [
      "paid\n",
      "unpaid\n",
      "paid\n"
     ]
    }
   ],
   "source": [
    "print(predict_paid_or_unpaid(2))\n",
    "print(predict_paid_or_unpaid(7))\n",
    "print(predict_paid_or_unpaid(10))"
   ]
  }
 ],
 "metadata": {
  "kernelspec": {
   "display_name": "Python 3",
   "language": "python",
   "name": "python3"
  },
  "language_info": {
   "codemirror_mode": {
    "name": "ipython",
    "version": 3
   },
   "file_extension": ".py",
   "mimetype": "text/x-python",
   "name": "python",
   "nbconvert_exporter": "python",
   "pygments_lexer": "ipython3",
   "version": "3.8.5"
  }
 },
 "nbformat": 4,
 "nbformat_minor": 4
}
