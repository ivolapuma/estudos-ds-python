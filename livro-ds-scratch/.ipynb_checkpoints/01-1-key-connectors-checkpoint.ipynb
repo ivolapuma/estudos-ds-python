{
 "cells": [
  {
   "cell_type": "code",
   "execution_count": 126,
   "metadata": {},
   "outputs": [],
   "source": [
    "# 1. Introduction\n",
    "\n",
    "# 1.1 Finding Key Connectors"
   ]
  },
  {
   "cell_type": "code",
   "execution_count": 127,
   "metadata": {},
   "outputs": [
    {
     "data": {
      "text/plain": [
       "[{'id': 0, 'name': 'Hero'},\n",
       " {'id': 1, 'name': 'Dunn'},\n",
       " {'id': 2, 'name': 'Sue'},\n",
       " {'id': 3, 'name': 'Chi'},\n",
       " {'id': 4, 'name': 'Thor'},\n",
       " {'id': 5, 'name': 'Clive'},\n",
       " {'id': 6, 'name': 'Hicks'},\n",
       " {'id': 7, 'name': 'Devin'},\n",
       " {'id': 8, 'name': 'Kate'},\n",
       " {'id': 9, 'name': 'Klein'}]"
      ]
     },
     "execution_count": 127,
     "metadata": {},
     "output_type": "execute_result"
    }
   ],
   "source": [
    "users = [\n",
    "    {\"id\": 0, \"name\": \"Hero\"},\n",
    "    {\"id\": 1, \"name\": \"Dunn\"},\n",
    "    {\"id\": 2, \"name\": \"Sue\"},\n",
    "    {\"id\": 3, \"name\": \"Chi\"},\n",
    "    {\"id\": 4, \"name\": \"Thor\"},\n",
    "    {\"id\": 5, \"name\": \"Clive\"},\n",
    "    {\"id\": 6, \"name\": \"Hicks\"},\n",
    "    {\"id\": 7, \"name\": \"Devin\"},\n",
    "    {\"id\": 8, \"name\": \"Kate\"},\n",
    "    {\"id\": 9, \"name\": \"Klein\"},\n",
    "]\n",
    "\n",
    "users"
   ]
  },
  {
   "cell_type": "code",
   "execution_count": 128,
   "metadata": {},
   "outputs": [
    {
     "data": {
      "text/plain": [
       "[(0, 1),\n",
       " (0, 2),\n",
       " (1, 2),\n",
       " (1, 3),\n",
       " (2, 3),\n",
       " (3, 4),\n",
       " (4, 5),\n",
       " (5, 6),\n",
       " (5, 7),\n",
       " (6, 8),\n",
       " (7, 8),\n",
       " (8, 9)]"
      ]
     },
     "execution_count": 128,
     "metadata": {},
     "output_type": "execute_result"
    }
   ],
   "source": [
    "friendships = [\n",
    "    (0, 1),\n",
    "    (0, 2),\n",
    "    (1, 2),\n",
    "    (1, 3),\n",
    "    (2, 3),\n",
    "    (3, 4),\n",
    "    (4, 5),\n",
    "    (5, 6),\n",
    "    (5, 7),\n",
    "    (6, 8),\n",
    "    (7, 8),\n",
    "    (8, 9),\n",
    "]\n",
    "\n",
    "friendships"
   ]
  },
  {
   "cell_type": "code",
   "execution_count": 129,
   "metadata": {},
   "outputs": [],
   "source": [
    "# adicionando uma lista vazia de amigos em cada usuario\n",
    "for user in users:\n",
    "    user[\"friends\"] = []\n",
    "\n",
    "# populando os amigos de cada usuario\n",
    "for i, j in friendships:\n",
    "    users[i][\"friends\"].append(users[j])  # adiciona usuario em j como amigo do usuario em i\n",
    "    users[j][\"friends\"].append(users[i])  # adiciona usuario em i como amigo do usuario em j"
   ]
  },
  {
   "cell_type": "code",
   "execution_count": 130,
   "metadata": {},
   "outputs": [
    {
     "name": "stdout",
     "output_type": "stream",
     "text": [
      "amigos do user id 0 2\n",
      "amigos do Clive 2\n"
     ]
    }
   ],
   "source": [
    "# funcao para retornar o numero de amigos de um usuario\n",
    "\n",
    "def number_of_friends(user):\n",
    "    '''quantos amigos o usuario tem?'''\n",
    "    return len(user[\"friends\"])\n",
    "\n",
    "print(\"amigos do user id 0\", number_of_friends(users[0]))\n",
    "print(\"amigos do Clive\", number_of_friends(users[\"name\"==\"Clive\"]))"
   ]
  },
  {
   "cell_type": "code",
   "execution_count": 131,
   "metadata": {},
   "outputs": [
    {
     "name": "stdout",
     "output_type": "stream",
     "text": [
      "0 Hero\n",
      "1 Dunn\n",
      "2 Sue\n",
      "3 Chi\n",
      "4 Thor\n",
      "5 Clive\n",
      "6 Hicks\n",
      "7 Devin\n",
      "8 Kate\n",
      "9 Klein\n"
     ]
    }
   ],
   "source": [
    "# printando os usuarios...\n",
    "for user in users:\n",
    "    print(user[\"id\"], user[\"name\"])"
   ]
  },
  {
   "cell_type": "code",
   "execution_count": 132,
   "metadata": {},
   "outputs": [
    {
     "name": "stdout",
     "output_type": "stream",
     "text": [
      "total_connections = 24\n"
     ]
    }
   ],
   "source": [
    "# calculando o total de conexoes\n",
    "\n",
    "total_connections = sum(number_of_friends(user) for user in users)\n",
    "\n",
    "print(\"total_connections =\", total_connections)"
   ]
  },
  {
   "cell_type": "code",
   "execution_count": 133,
   "metadata": {},
   "outputs": [
    {
     "name": "stdout",
     "output_type": "stream",
     "text": [
      "numero de usuarios = 10\n",
      "total de conexoes = 24\n",
      "media de conexoes = 2.4\n"
     ]
    }
   ],
   "source": [
    "# qual o numero medio de conexoes?\n",
    "\n",
    "num_users = len(users)  # tamanho da lista de usuarios\n",
    "avg_connections = total_connections / num_users\n",
    "\n",
    "print(\"numero de usuarios =\", num_users)\n",
    "print(\"total de conexoes =\", total_connections)\n",
    "print(\"media de conexoes =\", avg_connections)"
   ]
  },
  {
   "cell_type": "code",
   "execution_count": 134,
   "metadata": {},
   "outputs": [
    {
     "name": "stdout",
     "output_type": "stream",
     "text": [
      "[(0, 2), (1, 3), (2, 3), (3, 3), (4, 2), (5, 3), (6, 2), (7, 2), (8, 3), (9, 1)]\n"
     ]
    }
   ],
   "source": [
    "# qual usuario tem maior numero de amigos?\n",
    "\n",
    "# cria uma lista de (user_id, number_of_friends)\n",
    "num_friends_by_id = [(user[\"id\"], number_of_friends(user)) for user in users]\n",
    "\n",
    "print(num_friends_by_id)"
   ]
  },
  {
   "cell_type": "code",
   "execution_count": 135,
   "metadata": {},
   "outputs": [
    {
     "data": {
      "text/plain": [
       "[(1, 3),\n",
       " (2, 3),\n",
       " (3, 3),\n",
       " (5, 3),\n",
       " (8, 3),\n",
       " (0, 2),\n",
       " (4, 2),\n",
       " (6, 2),\n",
       " (7, 2),\n",
       " (9, 1)]"
      ]
     },
     "execution_count": 135,
     "metadata": {},
     "output_type": "execute_result"
    }
   ],
   "source": [
    "# ordena a lista de quem tem mais para quem tem menos amigos\n",
    "sorted(num_friends_by_id,\n",
    "      key=lambda item:item[1],\n",
    "      reverse=True)"
   ]
  },
  {
   "cell_type": "code",
   "execution_count": 136,
   "metadata": {},
   "outputs": [
    {
     "name": "stdout",
     "output_type": "stream",
     "text": [
      "amigos do usuario 0\n",
      "Dunn\n",
      "Sue\n",
      "amigos dos amigos do usuario 0\n",
      "Dunn Hero\n",
      "Dunn Sue\n",
      "Dunn Chi\n",
      "Sue Hero\n",
      "Sue Dunn\n",
      "Sue Chi\n"
     ]
    }
   ],
   "source": [
    "# verificando list comprehension...\n",
    "\n",
    "print(\"amigos do usuario 0\")\n",
    "for friend in users[0][\"friends\"]:\n",
    "    print(friend[\"name\"])\n",
    "\n",
    "print(\"amigos dos amigos do usuario 0\")\n",
    "for friend in users[0][\"friends\"]: \n",
    "    for foaf in friend[\"friends\"]:\n",
    "        print(friend[\"name\"], foaf[\"name\"])"
   ]
  }
 ],
 "metadata": {
  "kernelspec": {
   "display_name": "Python 3",
   "language": "python",
   "name": "python3"
  },
  "language_info": {
   "codemirror_mode": {
    "name": "ipython",
    "version": 3
   },
   "file_extension": ".py",
   "mimetype": "text/x-python",
   "name": "python",
   "nbconvert_exporter": "python",
   "pygments_lexer": "ipython3",
   "version": "3.8.5"
  }
 },
 "nbformat": 4,
 "nbformat_minor": 4
}
